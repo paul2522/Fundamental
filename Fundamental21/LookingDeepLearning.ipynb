{
 "cells": [
  {
   "cell_type": "markdown",
   "metadata": {},
   "source": [
    "# LookingDeepLearning"
   ]
  },
  {
   "cell_type": "markdown",
   "metadata": {},
   "source": [
    "## 학습 목표"
   ]
  },
  {
   "cell_type": "markdown",
   "metadata": {},
   "source": [
    "* 딥러닝 문제 구성에 대한 기본적인 이해를 높인다.\n",
    "* Neural Network에 사용되는 용어들에 대한 이해를 높인다.\n",
    "* 딥러닝 프레임워크를 사용하지 않고, Numpy만을 이용해 딥러닝 모델과 훈련 과정을 직접 구현해 본다."
   ]
  },
  {
   "cell_type": "markdown",
   "metadata": {},
   "source": [
    "## MNIST Revisited"
   ]
  },
  {
   "cell_type": "code",
   "execution_count": 1,
   "metadata": {},
   "outputs": [],
   "source": [
    "import tensorflow as tf\n",
    "from tensorflow import keras\n",
    "import numpy as np\n",
    "import matplotlib.pyplot as plt\n",
    "import seaborn as sns\n",
    "import datetime\n",
    "import os"
   ]
  },
  {
   "cell_type": "code",
   "execution_count": 2,
   "metadata": {},
   "outputs": [],
   "source": [
    "%load_ext tensorboard\n",
    "!rm -rf ./logs/\n",
    "\n",
    "log_dir = \"logs/fit/\" + datetime.datetime.now().strftime(\"%Y%m%d-%H%M%S\")\n",
    "tensorboard_callback = tf.keras.callbacks.TensorBoard(log_dir=log_dir, histogram_freq=1)"
   ]
  },
  {
   "cell_type": "code",
   "execution_count": 3,
   "metadata": {},
   "outputs": [
    {
     "name": "stderr",
     "output_type": "stream",
     "text": [
      "2022-08-10 14:31:56.456220: I tensorflow/stream_executor/cuda/cuda_gpu_executor.cc:975] successful NUMA node read from SysFS had negative value (-1), but there must be at least one NUMA node, so returning NUMA node zero\n",
      "2022-08-10 14:31:56.481729: I tensorflow/stream_executor/cuda/cuda_gpu_executor.cc:975] successful NUMA node read from SysFS had negative value (-1), but there must be at least one NUMA node, so returning NUMA node zero\n",
      "2022-08-10 14:31:56.482072: I tensorflow/stream_executor/cuda/cuda_gpu_executor.cc:975] successful NUMA node read from SysFS had negative value (-1), but there must be at least one NUMA node, so returning NUMA node zero\n",
      "2022-08-10 14:31:56.482845: I tensorflow/core/platform/cpu_feature_guard.cc:193] This TensorFlow binary is optimized with oneAPI Deep Neural Network Library (oneDNN) to use the following CPU instructions in performance-critical operations:  AVX2 FMA\n",
      "To enable them in other operations, rebuild TensorFlow with the appropriate compiler flags.\n",
      "2022-08-10 14:31:56.483555: I tensorflow/stream_executor/cuda/cuda_gpu_executor.cc:975] successful NUMA node read from SysFS had negative value (-1), but there must be at least one NUMA node, so returning NUMA node zer"
     ]
    },
    {
     "name": "stdout",
     "output_type": "stream",
     "text": [
      "Model: \"sequential\"\n",
      "_________________________________________________________________\n",
      " Layer (type)                Output Shape              Param #   \n",
      "=================================================================\n",
      " dense (Dense)               (None, 50)                39250     \n",
      "                                                                 \n",
      " dense_1 (Dense)             (None, 10)                510       \n",
      "                                                                 \n",
      "=================================================================\n",
      "Total params: 39,760\n",
      "Trainable params: 39,760\n",
      "Non-trainable params: 0\n",
      "_________________________________________________________________\n"
     ]
    },
    {
     "name": "stderr",
     "output_type": "stream",
     "text": [
      "o\n",
      "2022-08-10 14:31:56.483913: I tensorflow/stream_executor/cuda/cuda_gpu_executor.cc:975] successful NUMA node read from SysFS had negative value (-1), but there must be at least one NUMA node, so returning NUMA node zero\n",
      "2022-08-10 14:31:56.484130: I tensorflow/stream_executor/cuda/cuda_gpu_executor.cc:975] successful NUMA node read from SysFS had negative value (-1), but there must be at least one NUMA node, so returning NUMA node zero\n",
      "2022-08-10 14:31:56.905175: I tensorflow/stream_executor/cuda/cuda_gpu_executor.cc:975] successful NUMA node read from SysFS had negative value (-1), but there must be at least one NUMA node, so returning NUMA node zero\n",
      "2022-08-10 14:31:56.905344: I tensorflow/stream_executor/cuda/cuda_gpu_executor.cc:975] successful NUMA node read from SysFS had negative value (-1), but there must be at least one NUMA node, so returning NUMA node zero\n",
      "2022-08-10 14:31:56.905454: I tensorflow/stream_executor/cuda/cuda_gpu_executor.cc:975] successful NUMA node read from SysFS had negative value (-1), but there must be at least one NUMA node, so returning NUMA node zero\n",
      "2022-08-10 14:31:56.905544: I tensorflow/core/common_runtime/gpu/gpu_device.cc:1532] Created device /job:localhost/replica:0/task:0/device:GPU:0 with 6668 MB memory:  -> device: 0, name: NVIDIA GeForce RTX 2070, pci bus id: 0000:01:00.0, compute capability: 7.5\n"
     ]
    },
    {
     "name": "stdout",
     "output_type": "stream",
     "text": [
      "Epoch 1/10\n",
      "1875/1875 [==============================] - 3s 1ms/step - loss: 0.4931 - accuracy: 0.8823\n",
      "Epoch 2/10\n",
      "1875/1875 [==============================] - 4s 2ms/step - loss: 0.2320 - accuracy: 0.9348\n",
      "Epoch 3/10\n",
      "1875/1875 [==============================] - 2s 1ms/step - loss: 0.1795 - accuracy: 0.9484\n",
      "Epoch 4/10\n",
      "1875/1875 [==============================] - 3s 2ms/step - loss: 0.1484 - accuracy: 0.9579\n",
      "Epoch 5/10\n",
      "1875/1875 [==============================] - 3s 1ms/step - loss: 0.1266 - accuracy: 0.9641\n",
      "Epoch 6/10\n",
      "1875/1875 [==============================] - 3s 1ms/step - loss: 0.1109 - accuracy: 0.9682\n",
      "Epoch 7/10\n",
      "1875/1875 [==============================] - 2s 1ms/step - loss: 0.0991 - accuracy: 0.9716\n",
      "Epoch 8/10\n",
      "1875/1875 [==============================] - 3s 1ms/step - loss: 0.0887 - accuracy: 0.9752\n",
      "Epoch 9/10\n",
      "1875/1875 [==============================] - 3s 1ms/step - loss: 0.0806 - accuracy: 0.9767\n",
      "Epoch 10/10\n",
      "1875/1875 [==============================] - 3s 1ms/step - loss: 0.0731 - accuracy: 0.9796\n",
      "313/313 - 0s - loss: 0.1041 - accuracy: 0.9675 - 368ms/epoch - 1ms/step\n",
      "test_loss: 0.10414175689220428 \n",
      "test_accuracy: 0.9674999713897705\n"
     ]
    }
   ],
   "source": [
    "# MNIST 데이터를 로드. 다운로드하지 않았다면 다운로드까지 자동으로 진행됩니다. \n",
    "mnist = keras.datasets.mnist\n",
    "(x_train, y_train), (x_test, y_test) = mnist.load_data()   \n",
    "\n",
    "# 모델에 맞게 데이터 가공\n",
    "x_train_norm, x_test_norm = x_train / 255.0, x_test / 255.0\n",
    "x_train_reshaped = x_train_norm.reshape(-1, x_train_norm.shape[1]*x_train_norm.shape[2])\n",
    "x_test_reshaped = x_test_norm.reshape(-1, x_test_norm.shape[1]*x_test_norm.shape[2])\n",
    "\n",
    "# 딥러닝 모델 구성 - 2 Layer Perceptron\n",
    "model=keras.models.Sequential()\n",
    "model.add(keras.layers.Dense(50, activation='sigmoid', input_shape=(784,)))  # 입력층 d=784, 은닉층 레이어 H=50\n",
    "model.add(keras.layers.Dense(10, activation='softmax'))   # 출력층 레이어 K=10\n",
    "model.summary()\n",
    "\n",
    "# 모델 구성과 학습\n",
    "logdir=\"logs/fit/\" + datetime.datetime.now().strftime(\"%Y%m%d-%H%M%S\")\n",
    "tensorboard_callback = keras.callbacks.TensorBoard(log_dir=logdir)\n",
    "\n",
    "\n",
    "model.compile(optimizer='adam',\n",
    "             loss='sparse_categorical_crossentropy',\n",
    "             metrics=['accuracy'])\n",
    "model.fit(x_train_reshaped, y_train, epochs=10, callbacks=[tensorboard_callback])\n",
    "\n",
    "# 모델 테스트 결과\n",
    "test_loss, test_accuracy = model.evaluate(x_test_reshaped,y_test, verbose=2)\n",
    "print(\"test_loss: {} \".format(test_loss))\n",
    "print(\"test_accuracy: {}\".format(test_accuracy))\n",
    "\n",
    "\n"
   ]
  },
  {
   "cell_type": "code",
   "execution_count": 4,
   "metadata": {},
   "outputs": [],
   "source": [
    "# %tensorboard --logdir logs/fit"
   ]
  },
  {
   "cell_type": "markdown",
   "metadata": {},
   "source": [
    "* 입력층 데이터의 모양(shape)\n",
    "* 테스트를 위해 x_train_reshaped의 앞 5개의 데이터를 가져온다."
   ]
  },
  {
   "cell_type": "code",
   "execution_count": 5,
   "metadata": {},
   "outputs": [
    {
     "name": "stdout",
     "output_type": "stream",
     "text": [
      "(60000, 784)\n",
      "(5, 784)\n"
     ]
    }
   ],
   "source": [
    "print(x_train_reshaped.shape)\n",
    "X = x_train_reshaped[:5]\n",
    "print(X.shape)"
   ]
  },
  {
   "cell_type": "markdown",
   "metadata": {},
   "source": [
    "* 인접 레이어간 관계를 나타내는 파라미터 W를 생성하고 random 초기화\n",
    "* 바이어스 파라미터 b를 생성하고 Zero로 초기화\n",
    "* 은닉층 크기 출력\n",
    "* 첫번째 데이터의 은닉층 출력"
   ]
  },
  {
   "cell_type": "code",
   "execution_count": 6,
   "metadata": {},
   "outputs": [
    {
     "name": "stdout",
     "output_type": "stream",
     "text": [
      "(784, 50)\n",
      "(50,)\n",
      "(5, 50)\n",
      "[-0.47784576  1.10640358 -0.25096701 -1.01998469  0.83340601 -2.64149311\n",
      "  0.01184845  0.62069096  0.37853998 -0.90167759  0.16126369  0.64111818\n",
      "  0.92129871 -0.86264241  0.91731881 -0.28558099  1.6319632  -3.18740287\n",
      " -0.01364552  0.26877589  1.21854878  0.04764121 -0.02048871 -1.33970402\n",
      " -1.50831945 -0.99153766  1.07760095  1.43270678 -1.11021532  1.2164688\n",
      " -0.65173182  0.3032707  -1.82968603 -0.44704883 -0.21746012 -0.51885228\n",
      " -0.97844719 -0.49155896  0.11700412  0.80105014 -0.88569909 -0.37773758\n",
      "  1.07275948 -0.37974187  0.18048678  0.51406776  1.21267182 -0.32567426\n",
      "  0.34756025 -1.34242107]\n"
     ]
    }
   ],
   "source": [
    "weight_init_std = 0.1\n",
    "input_size = 784\n",
    "hidden_size=50\n",
    "\n",
    "W1 = weight_init_std * np.random.randn(input_size, hidden_size)  \n",
    "b1 = np.zeros(hidden_size)\n",
    "\n",
    "a1 = np.dot(X, W1) + b1\n",
    "\n",
    "print(W1.shape)\n",
    "print(b1.shape)\n",
    "print(a1.shape)\n",
    "print(a1[0])"
   ]
  },
  {
   "cell_type": "code",
   "execution_count": 7,
   "metadata": {},
   "outputs": [],
   "source": [
    "# tf.keras.utils.plot_model(model, to_file='model_shapes.png', show_shapes=True)"
   ]
  },
  {
   "cell_type": "markdown",
   "metadata": {},
   "source": [
    "## 활성화 함수 (Activation Functions)"
   ]
  },
  {
   "cell_type": "markdown",
   "metadata": {},
   "source": [
    "### Sigmoid"
   ]
  },
  {
   "cell_type": "code",
   "execution_count": 8,
   "metadata": {},
   "outputs": [
    {
     "name": "stdout",
     "output_type": "stream",
     "text": [
      "[0.38276095 0.75145802 0.4375855  0.26503038 0.69707463 0.06651527\n",
      " 0.50296208 0.65037568 0.59352092 0.28870588 0.54022878 0.65500618\n",
      " 0.71530665 0.29678757 0.71449548 0.42908606 0.8364384  0.03964254\n",
      " 0.49658867 0.56679236 0.77180806 0.51190805 0.494878   0.20755874\n",
      " 0.18118798 0.27060847 0.74603972 0.80732271 0.24783075 0.77144153\n",
      " 0.34259938 0.57524187 0.13827568 0.39006266 0.4458482  0.37312065\n",
      " 0.2732     0.37952638 0.5292177  0.69019907 0.29199818 0.40667268\n",
      " 0.74512134 0.40618916 0.5449996  0.62575957 0.77077136 0.41929351\n",
      " 0.58602582 0.2071122 ]\n"
     ]
    }
   ],
   "source": [
    "def sigmoid(x):\n",
    "    return 1 / (1 + np.exp(-x))  \n",
    "\n",
    "z1 = sigmoid(a1)\n",
    "print(z1[0])"
   ]
  },
  {
   "cell_type": "code",
   "execution_count": 9,
   "metadata": {},
   "outputs": [
    {
     "data": {
      "image/png": "[encoded data removed]",
      "text/plain": [
       "<Figure size 432x288 with 1 Axes>"
      ]
     },
     "metadata": {
      "needs_background": "light"
     },
     "output_type": "display_data"
    }
   ],
   "source": [
    "x = np.arange(-10,10)\n",
    "\n",
    "sns.lineplot(data = sigmoid(x))\n",
    "plt.show()"
   ]
  },
  {
   "cell_type": "markdown",
   "metadata": {},
   "source": [
    "* vanishing gradient 현상이 발생한다.(gradient이 너무 작아져서 underflow 현상이 일어남)\n",
    "* exp 함수 사용 시 비용이 크다."
   ]
  },
  {
   "cell_type": "markdown",
   "metadata": {},
   "source": [
    "### TanH"
   ]
  },
  {
   "cell_type": "code",
   "execution_count": 10,
   "metadata": {},
   "outputs": [
    {
     "data": {
      "image/png": "[encoded data removed]",
      "text/plain": [
       "<Figure size 432x288 with 1 Axes>"
      ]
     },
     "metadata": {
      "needs_background": "light"
     },
     "output_type": "display_data"
    }
   ],
   "source": [
    "def tanH(x):\n",
    "    return (np.exp(x) - np.exp(-x)) / (np.exp(x) + np.exp(-x))  \n",
    "\n",
    "sns.lineplot(data = tanH(x))\n",
    "plt.show()"
   ]
  },
  {
   "cell_type": "markdown",
   "metadata": {},
   "source": [
    "* tanh 함수는 함수의 중심값을 0으로 옮겨 sigmoid의 최적화 과정이 느려지는 문제를 해결.\n",
    "* vanishing gradient 문제 존재."
   ]
  },
  {
   "cell_type": "markdown",
   "metadata": {},
   "source": [
    "### ReLU"
   ]
  },
  {
   "cell_type": "code",
   "execution_count": 11,
   "metadata": {},
   "outputs": [
    {
     "data": {
      "image/png": "[encoded data removed]",
      "text/plain": [
       "<Figure size 432x288 with 1 Axes>"
      ]
     },
     "metadata": {
      "needs_background": "light"
     },
     "output_type": "display_data"
    }
   ],
   "source": [
    "def relu(x):\n",
    "    return np.where(x >0, x, 0)\n",
    "    \n",
    "sns.lineplot(data = relu(x))\n",
    "plt.show()"
   ]
  },
  {
   "cell_type": "markdown",
   "metadata": {},
   "source": [
    "* sigmoid, tanh 함수에 비해 학습이 빠름.\n",
    "* 연산 비용이 크지 않고, 구현이 매우 간단하다."
   ]
  },
  {
   "cell_type": "markdown",
   "metadata": {},
   "source": [
    "### Layer 구현"
   ]
  },
  {
   "cell_type": "markdown",
   "metadata": {},
   "source": [
    "* 단일 레이어 구현 함수"
   ]
  },
  {
   "cell_type": "code",
   "execution_count": 12,
   "metadata": {},
   "outputs": [],
   "source": [
    "def affine_layer_forward(X, W, b):\n",
    "    y = np.dot(X, W) + b\n",
    "    cache = (X, W, b)\n",
    "    return y, cache"
   ]
  },
  {
   "cell_type": "code",
   "execution_count": 13,
   "metadata": {},
   "outputs": [
    {
     "name": "stdout",
     "output_type": "stream",
     "text": [
      "[ 0.35844506  0.25374348 -0.01401344  0.028364   -0.26184895  0.61114209\n",
      "  0.14337689  0.01049322 -0.1003142  -0.11461655]\n",
      "(5, 10)\n"
     ]
    }
   ],
   "source": [
    "input_size = 784\n",
    "hidden_size = 50\n",
    "output_size = 10\n",
    "\n",
    "W1 = weight_init_std * np.random.randn(input_size, hidden_size)\n",
    "b1 = np.zeros(hidden_size)\n",
    "W2 = weight_init_std * np.random.randn(hidden_size, output_size)\n",
    "b2 = np.zeros(output_size)\n",
    "\n",
    "a1, cache1 = affine_layer_forward(X, W1, b1)\n",
    "z1 = sigmoid(a1)\n",
    "a2, cache2 = affine_layer_forward(z1, W2, b2)    # z1이 다시 두번째 레이어의 입력이 됩니다. \n",
    "\n",
    "print(a2[0])  # 최종 출력이 output_size만큼의 벡터가 되었습니다.\n",
    "print(a2.shape)"
   ]
  },
  {
   "cell_type": "markdown",
   "metadata": {},
   "source": [
    "최종 출력에 softmax 함수를 적용해봅시다."
   ]
  },
  {
   "cell_type": "code",
   "execution_count": 14,
   "metadata": {},
   "outputs": [],
   "source": [
    "def softmax(x):\n",
    "    if x.ndim == 2:\n",
    "        x = x.T\n",
    "        x = x - np.max(x, axis=0)\n",
    "        y = np.exp(x) / np.sum(np.exp(x), axis=0)\n",
    "        return y.T \n",
    "\n",
    "    x = x - np.max(x) # 오버플로 대책\n",
    "    return np.exp(x) / np.sum(np.exp(x))"
   ]
  },
  {
   "cell_type": "code",
   "execution_count": 15,
   "metadata": {},
   "outputs": [
    {
     "data": {
      "text/plain": [
       "array([0.12655737, 0.11397671, 0.08720287, 0.09097772, 0.06806082,\n",
       "       0.16294175, 0.10206681, 0.08936632, 0.07999279, 0.07885684])"
      ]
     },
     "execution_count": 15,
     "metadata": {},
     "output_type": "execute_result"
    }
   ],
   "source": [
    "y_hat = softmax(a2)\n",
    "y_hat[0]  # 10개의 숫자 중 하나일 확률이 되었습니다."
   ]
  },
  {
   "cell_type": "markdown",
   "metadata": {},
   "source": [
    "## 손실함수 (Loss Functions)"
   ]
  },
  {
   "cell_type": "markdown",
   "metadata": {},
   "source": [
    "* MSE : 평균 제곱 오차"
   ]
  },
  {
   "cell_type": "markdown",
   "metadata": {},
   "source": [
    "* 교차 엔트로피\n",
    "  - cross entropy는 두 확률분포 사이의 유사도가 클수록 작아지는 값"
   ]
  },
  {
   "cell_type": "markdown",
   "metadata": {},
   "source": [
    "* 정답 라벨을 One-hot 인코딩하는 함수"
   ]
  },
  {
   "cell_type": "code",
   "execution_count": 16,
   "metadata": {},
   "outputs": [
    {
     "data": {
      "text/plain": [
       "array([[0., 0., 0., 0., 0., 1., 0., 0., 0., 0.],\n",
       "       [1., 0., 0., 0., 0., 0., 0., 0., 0., 0.],\n",
       "       [0., 0., 0., 0., 1., 0., 0., 0., 0., 0.],\n",
       "       [0., 1., 0., 0., 0., 0., 0., 0., 0., 0.],\n",
       "       [0., 0., 0., 0., 0., 0., 0., 0., 0., 1.]])"
      ]
     },
     "execution_count": 16,
     "metadata": {},
     "output_type": "execute_result"
    }
   ],
   "source": [
    "def _change_one_hot_label(X, num_category):\n",
    "    T = np.zeros((X.size, num_category))\n",
    "    for idx, row in enumerate(T):\n",
    "        row[X[idx]] = 1\n",
    "        \n",
    "    return T\n",
    "\n",
    "Y_digit = y_train[:5]\n",
    "t = _change_one_hot_label(Y_digit, 10)\n",
    "t     # 정답 라벨의 One-hot 인코딩"
   ]
  },
  {
   "cell_type": "code",
   "execution_count": 17,
   "metadata": {},
   "outputs": [
    {
     "name": "stdout",
     "output_type": "stream",
     "text": [
      "[0.12655737 0.11397671 0.08720287 0.09097772 0.06806082 0.16294175\n",
      " 0.10206681 0.08936632 0.07999279 0.07885684]\n",
      "[0. 0. 0. 0. 0. 1. 0. 0. 0. 0.]\n"
     ]
    }
   ],
   "source": [
    "print(y_hat[0])\n",
    "print(t[0])"
   ]
  },
  {
   "cell_type": "markdown",
   "metadata": {},
   "source": [
    "아직 예측값과 실제값이 유사하지 않음"
   ]
  },
  {
   "cell_type": "markdown",
   "metadata": {},
   "source": [
    "* 훈련 데이터가 원-핫 벡터라면 정답 레이블의 인덱스로 반환\n"
   ]
  },
  {
   "cell_type": "code",
   "execution_count": 18,
   "metadata": {},
   "outputs": [
    {
     "data": {
      "text/plain": [
       "2.372628657873207"
      ]
     },
     "execution_count": 18,
     "metadata": {},
     "output_type": "execute_result"
    }
   ],
   "source": [
    "def cross_entropy_error(y, t):\n",
    "    if y.ndim == 1:\n",
    "        t = t.reshape(1, t.size)\n",
    "        y = y.reshape(1, y.size)\n",
    "        \n",
    "    if t.size == y.size:\n",
    "        t = t.argmax(axis=1)\n",
    "             \n",
    "    batch_size = y.shape[0]\n",
    "    return -np.sum(np.log(y[np.arange(batch_size), t])) / batch_size\n",
    "\n",
    "Loss = cross_entropy_error(y_hat, t)\n",
    "Loss"
   ]
  },
  {
   "cell_type": "markdown",
   "metadata": {},
   "source": [
    "## 경사하강법 (Gradient Descent)"
   ]
  },
  {
   "cell_type": "markdown",
   "metadata": {},
   "source": [
    "* 각 단계에서 기울기를 구해 해당 기울기가 가리키는 방향으로 이동"
   ]
  },
  {
   "cell_type": "markdown",
   "metadata": {},
   "source": [
    "* softmax값의 출력으로 Loss를 미분한 값"
   ]
  },
  {
   "cell_type": "code",
   "execution_count": 19,
   "metadata": {},
   "outputs": [
    {
     "data": {
      "text/plain": [
       "array([[ 0.02531147,  0.02279534,  0.01744057,  0.01819554,  0.01361216,\n",
       "        -0.16741165,  0.02041336,  0.01787326,  0.01599856,  0.01577137],\n",
       "       [-0.17351726,  0.02097134,  0.01912187,  0.01610201,  0.01253076,\n",
       "         0.03647264,  0.02138998,  0.01560263,  0.01730018,  0.01402585],\n",
       "       [ 0.03017295,  0.01919795,  0.0216294 ,  0.01975189, -0.18830937,\n",
       "         0.02948602,  0.02147544,  0.01465586,  0.01864436,  0.01329551],\n",
       "       [ 0.02667822, -0.17921843,  0.01739612,  0.02156818,  0.0113224 ,\n",
       "         0.03510969,  0.02093723,  0.01665065,  0.01523675,  0.01431918],\n",
       "       [ 0.025013  ,  0.02084698,  0.02093087,  0.017032  ,  0.01274469,\n",
       "         0.02897506,  0.02876853,  0.01795504,  0.0169813 , -0.18924747]])"
      ]
     },
     "execution_count": 19,
     "metadata": {},
     "output_type": "execute_result"
    }
   ],
   "source": [
    "batch_num = y_hat.shape[0]\n",
    "dy = (y_hat - t) / batch_num\n",
    "dy    "
   ]
  },
  {
   "cell_type": "code",
   "execution_count": 20,
   "metadata": {},
   "outputs": [
    {
     "data": {
      "text/plain": [
       "array([[ 7.10392725e-03, -6.49354571e-02,  5.86471025e-02,\n",
       "         5.65335325e-02, -1.37857802e-01, -5.47319235e-03,\n",
       "         6.79026178e-02,  4.91803803e-02,  5.08485149e-02,\n",
       "        -8.19496240e-02],\n",
       "       [-5.93662646e-02, -5.73720076e-02,  6.86309104e-02,\n",
       "         6.53577823e-02, -1.17517946e-01, -1.02570877e-02,\n",
       "         7.97323795e-02,  5.80679553e-02,  5.98347091e-02,\n",
       "        -8.71104312e-02],\n",
       "       [ 7.81018901e-03, -5.16053448e-02,  2.52779641e-02,\n",
       "         2.52988804e-02, -5.64040850e-02, -5.01846022e-03,\n",
       "         2.90561926e-02,  2.15359941e-02,  2.20365890e-02,\n",
       "        -1.79879194e-02],\n",
       "       [-4.37412070e-02, -6.78103788e-02,  4.73058562e-02,\n",
       "         4.58323896e-02, -5.58434515e-02, -3.59686739e-03,\n",
       "         5.55064627e-02,  4.07230749e-02,  4.12817333e-02,\n",
       "        -5.96576119e-02],\n",
       "       [-5.87817771e-02, -3.12831388e-02,  5.67648787e-02,\n",
       "         5.42405787e-02, -7.58141232e-02, -5.30861272e-02,\n",
       "         6.59470753e-02,  4.89345594e-02,  4.98109218e-02,\n",
       "        -5.67328476e-02],\n",
       "       [-1.09932310e-02, -4.75363710e-02,  2.13374459e-02,\n",
       "         2.16372885e-02, -4.07545409e-02, -9.66695245e-03,\n",
       "         2.41684199e-02,  1.83744213e-02,  1.88153284e-02,\n",
       "         4.61819123e-03],\n",
       "       [ 2.18017426e-02, -4.46413240e-02,  3.00573768e-02,\n",
       "         2.95160532e-02, -7.95135603e-02, -6.61854668e-03,\n",
       "         3.46399138e-02,  2.52573187e-02,  2.60470793e-02,\n",
       "        -3.65460533e-02],\n",
       "       [-1.97614094e-02, -6.56016365e-02,  3.99376299e-02,\n",
       "         3.88806825e-02, -4.18200456e-02, -2.54517643e-03,\n",
       "         4.73985666e-02,  3.46127265e-02,  3.47057593e-02,\n",
       "        -6.58070967e-02],\n",
       "       [-6.21900232e-03, -3.21771330e-02,  3.75150323e-02,\n",
       "         3.68073725e-02, -7.06047280e-02, -5.48934764e-02,\n",
       "         4.29949191e-02,  3.24546183e-02,  3.29933750e-02,\n",
       "        -1.88709774e-02],\n",
       "       [ 1.52594614e-02, -7.58014401e-02,  3.36811466e-02,\n",
       "         3.30152729e-02, -5.56515139e-02,  2.69033822e-02,\n",
       "         4.02095250e-02,  2.86526397e-02,  2.89123228e-02,\n",
       "        -7.51807967e-02],\n",
       "       [-1.48208166e-02, -1.43081107e-02,  4.13460538e-02,\n",
       "         3.77466179e-02, -7.61490739e-02,  2.97121068e-02,\n",
       "         4.94418602e-02,  3.42137169e-02,  3.53753336e-02,\n",
       "        -1.22557688e-01],\n",
       "       [-7.92844978e-02, -7.36473420e-02,  6.63118611e-02,\n",
       "         6.36980187e-02, -6.85667171e-02, -1.90200309e-02,\n",
       "         7.78198474e-02,  5.72232506e-02,  5.79886278e-02,\n",
       "        -8.25230178e-02],\n",
       "       [-1.63722250e-02, -9.19091361e-02,  5.82794127e-02,\n",
       "         5.72466074e-02, -1.21218010e-01, -7.98353520e-03,\n",
       "         6.69889340e-02,  4.94008329e-02,  5.08759932e-02,\n",
       "        -4.53088738e-02],\n",
       "       [ 5.21490613e-04, -5.73548749e-02,  2.40438283e-02,\n",
       "         2.42918027e-02, -4.34753619e-02, -3.83396574e-03,\n",
       "         2.77527395e-02,  2.07248896e-02,  2.10162715e-02,\n",
       "        -1.36868197e-02],\n",
       "       [-7.83621338e-03, -7.52322986e-02,  3.53840363e-02,\n",
       "         3.50578726e-02, -9.77505704e-03, -1.40445128e-02,\n",
       "         4.28407338e-02,  3.15717226e-02,  3.07359865e-02,\n",
       "        -6.87022698e-02],\n",
       "       [-6.22168108e-03, -7.70292413e-02,  4.07451297e-02,\n",
       "         4.05483844e-02, -4.98200271e-02, -2.38418931e-02,\n",
       "         4.78227103e-02,  3.56348291e-02,  3.55942195e-02,\n",
       "        -4.34324304e-02],\n",
       "       [-3.19278589e-02, -1.04639172e-01,  6.46150147e-02,\n",
       "         6.33510564e-02, -1.23126934e-01, -1.22081838e-03,\n",
       "         7.44821225e-02,  5.48569704e-02,  5.64185059e-02,\n",
       "        -5.28088866e-02],\n",
       "       [-3.32708689e-02, -3.51809956e-02,  3.36673737e-02,\n",
       "         3.25254689e-02, -6.59312894e-02, -8.86788958e-03,\n",
       "         3.84632313e-02,  2.84343969e-02,  2.95239189e-02,\n",
       "        -1.93633462e-02],\n",
       "       [ 1.03943616e-02, -9.98131183e-02,  6.19744144e-02,\n",
       "         6.02052937e-02, -1.17805681e-01,  1.47666259e-02,\n",
       "         7.28624478e-02,  5.25106571e-02,  5.35477722e-02,\n",
       "        -1.08642774e-01],\n",
       "       [-1.46433007e-02, -4.31349700e-02,  2.78214253e-02,\n",
       "         2.73043834e-02, -5.31458955e-02, -4.88509069e-03,\n",
       "         3.19854065e-02,  2.36619687e-02,  2.43332552e-02,\n",
       "        -1.92971821e-02],\n",
       "       [-3.50697925e-02, -3.17679270e-02,  5.41850921e-02,\n",
       "         5.12015481e-02, -1.35210802e-01,  3.32968314e-03,\n",
       "         6.19737480e-02,  4.47539122e-02,  4.71560768e-02,\n",
       "        -6.05515390e-02],\n",
       "       [-6.33966439e-02, -2.80228834e-02,  6.44372213e-02,\n",
       "         6.01003688e-02, -1.15370800e-01,  5.51240176e-03,\n",
       "         7.52035042e-02,  5.39228168e-02,  5.59565763e-02,\n",
       "        -1.08342562e-01],\n",
       "       [-5.22523227e-02, -5.43848507e-02,  5.44350988e-02,\n",
       "         5.22146821e-02, -8.45800043e-02, -1.23770343e-02,\n",
       "         6.32217141e-02,  4.63568444e-02,  4.75621916e-02,\n",
       "        -6.01963190e-02],\n",
       "       [-4.30921628e-02, -1.97713162e-02,  2.99827594e-02,\n",
       "         2.93028535e-02, -3.41367706e-02, -5.20568934e-02,\n",
       "         3.42158836e-02,  2.63157619e-02,  2.66590821e-02,\n",
       "         2.58080269e-03],\n",
       "       [-1.20645498e-02, -6.91173783e-02,  2.29585236e-02,\n",
       "         2.33429152e-02, -1.26214877e-02,  4.05010586e-03,\n",
       "         2.72719914e-02,  2.03326241e-02,  2.00455676e-02,\n",
       "        -2.41983119e-02],\n",
       "       [-6.19574177e-02, -5.33091924e-02,  4.74128012e-02,\n",
       "         4.56051395e-02, -7.99257942e-02,  6.30387025e-05,\n",
       "         5.44931611e-02,  4.00925333e-02,  4.15499435e-02,\n",
       "        -3.40242130e-02],\n",
       "       [-8.62877453e-02, -5.77582474e-02,  6.53408284e-02,\n",
       "         6.29994019e-02, -4.04270605e-02, -6.62013076e-02,\n",
       "         7.68762246e-02,  5.74651270e-02,  5.74522392e-02,\n",
       "        -6.94594602e-02],\n",
       "       [-5.64956934e-02, -3.18921073e-03,  4.50891584e-02,\n",
       "         4.19895280e-02, -9.07762527e-02, -1.50884054e-02,\n",
       "         5.17863657e-02,  3.76256197e-02,  3.94124967e-02,\n",
       "        -5.03536062e-02],\n",
       "       [-1.44768922e-02, -5.46006936e-02,  5.84479419e-02,\n",
       "         5.58414733e-02, -6.98572603e-02, -2.77140502e-02,\n",
       "         6.96145686e-02,  5.05034804e-02,  5.06695023e-02,\n",
       "        -1.18428070e-01],\n",
       "       [-6.24116769e-02, -2.85506926e-02,  4.58230467e-02,\n",
       "         4.31452307e-02, -6.85155207e-02, -2.04023536e-03,\n",
       "         5.33123911e-02,  3.87249282e-02,  4.00027052e-02,\n",
       "        -5.94901762e-02],\n",
       "       [ 2.53968924e-02, -1.97301006e-02,  4.32313519e-02,\n",
       "         4.10281511e-02, -9.96058745e-02, -2.93464056e-02,\n",
       "         5.06373053e-02,  3.64746391e-02,  3.73472257e-02,\n",
       "        -8.54331848e-02],\n",
       "       [-4.51264211e-02, -2.78209258e-02,  3.73040711e-02,\n",
       "         3.58412286e-02, -5.74833663e-02, -2.61355051e-02,\n",
       "         4.29040277e-02,  3.19235979e-02,  3.27987807e-02,\n",
       "        -2.42054879e-02],\n",
       "       [-3.75251557e-02, -6.04126540e-02,  3.65960631e-02,\n",
       "         3.58715266e-02, -2.61660518e-02, -1.45924645e-02,\n",
       "         4.31694908e-02,  3.20781660e-02,  3.20493657e-02,\n",
       "        -4.10682862e-02],\n",
       "       [-5.95697947e-02, -2.68648931e-02,  3.55440164e-02,\n",
       "         3.33372535e-02, -2.84681930e-02,  3.32134431e-03,\n",
       "         4.20970334e-02,  3.04547546e-02,  3.09819565e-02,\n",
       "        -6.08334779e-02],\n",
       "       [-8.59172538e-02, -8.07428655e-02,  5.57273376e-02,\n",
       "         5.39195754e-02, -4.01999375e-02, -4.60733825e-03,\n",
       "         6.55171205e-02,  4.83733291e-02,  4.88319627e-02,\n",
       "        -6.09019302e-02],\n",
       "       [-9.58930854e-02, -4.20572106e-02,  6.46423707e-02,\n",
       "         6.16710576e-02, -9.55282920e-02, -3.49474425e-02,\n",
       "         7.43653007e-02,  5.51259274e-02,  5.68388862e-02,\n",
       "        -4.42175121e-02],\n",
       "       [-3.57515415e-02, -3.24659500e-02,  4.52427728e-02,\n",
       "         4.32244252e-02, -9.62235452e-02, -1.44408583e-02,\n",
       "         5.18120061e-02,  3.79889425e-02,  3.95580399e-02,\n",
       "        -3.89442915e-02],\n",
       "       [-2.82187768e-02, -2.77187482e-02,  6.08733812e-02,\n",
       "         5.80052457e-02, -1.02910501e-01, -5.67353224e-02,\n",
       "         7.08481505e-02,  5.21105148e-02,  5.31577485e-02,\n",
       "        -7.94116925e-02],\n",
       "       [ 2.56767192e-02, -4.86822605e-02,  3.21556362e-02,\n",
       "         3.17351274e-02, -8.64187407e-02, -1.24103165e-02,\n",
       "         3.69398428e-02,  2.70909403e-02,  2.79102752e-02,\n",
       "        -3.39972234e-02],\n",
       "       [-2.42063677e-02, -1.70665786e-02,  4.37568703e-02,\n",
       "         4.10537491e-02, -1.28821654e-01,  9.04198932e-03,\n",
       "         4.96211610e-02,  3.55931180e-02,  3.80285266e-02,\n",
       "        -4.70008140e-02],\n",
       "       [-2.23798926e-02, -1.24758569e-02,  4.34467862e-02,\n",
       "         4.06341808e-02, -1.07273611e-01, -2.93269601e-03,\n",
       "         4.99997886e-02,  3.58874687e-02,  3.77198874e-02,\n",
       "        -6.26260548e-02],\n",
       "       [-6.82332703e-02, -4.11077940e-02,  4.80581469e-02,\n",
       "         4.52814207e-02, -3.82277363e-02,  1.09163017e-03,\n",
       "         5.71015700e-02,  4.13194888e-02,  4.18350473e-02,\n",
       "        -8.71185033e-02],\n",
       "       [-2.74962495e-03, -9.89300412e-02,  5.82167953e-02,\n",
       "         5.66625150e-02, -3.59278807e-02, -1.38956410e-02,\n",
       "         7.05475102e-02,  5.12155150e-02,  5.03237234e-02,\n",
       "        -1.35462871e-01],\n",
       "       [-3.85435317e-02, -3.04922229e-02,  5.17448961e-02,\n",
       "         4.83886893e-02, -8.04996983e-02,  4.78800465e-03,\n",
       "         6.10870715e-02,  4.36501941e-02,  4.47963070e-02,\n",
       "        -1.04919710e-01],\n",
       "       [-7.89894521e-02, -3.74894673e-02,  6.40038464e-02,\n",
       "         6.06584073e-02, -7.81829663e-02, -3.44401026e-02,\n",
       "         7.48022755e-02,  5.49132603e-02,  5.60025264e-02,\n",
       "        -8.12783275e-02],\n",
       "       [-4.00593239e-02, -6.85605180e-02,  5.10602039e-02,\n",
       "         4.96696658e-02, -4.95327071e-02, -2.73358508e-02,\n",
       "         6.01463922e-02,  4.44988402e-02,  4.46365012e-02,\n",
       "        -6.45232035e-02],\n",
       "       [-4.44529123e-02, -2.99901537e-02,  6.21618127e-02,\n",
       "         5.88262536e-02, -5.32126335e-02, -5.75886337e-02,\n",
       "         7.40559837e-02,  5.41874201e-02,  5.41542925e-02,\n",
       "        -1.18141430e-01],\n",
       "       [-4.72816128e-02, -7.60144661e-02,  5.24002208e-02,\n",
       "         5.06636627e-02, -8.02471286e-02,  1.05379209e-02,\n",
       "         6.10351411e-02,  4.45420380e-02,  4.56765844e-02,\n",
       "        -6.13123605e-02],\n",
       "       [-2.47191280e-02, -9.10284869e-02,  2.68699567e-02,\n",
       "         2.76366803e-02, -1.31620667e-02,  9.63861677e-03,\n",
       "         3.16310920e-02,  2.38151861e-02,  2.35717709e-02,\n",
       "        -1.42536211e-02],\n",
       "       [-4.10232545e-02, -4.00946225e-02,  4.79875443e-02,\n",
       "         4.57177031e-02, -8.85940814e-02, -5.18404415e-03,\n",
       "         5.55381645e-02,  4.04475368e-02,  4.18477542e-02,\n",
       "        -5.66427003e-02]])"
      ]
     },
     "execution_count": 20,
     "metadata": {},
     "output_type": "execute_result"
    }
   ],
   "source": [
    "dW2 = np.dot(z1.T, dy)    \n",
    "dW2"
   ]
  },
  {
   "cell_type": "code",
   "execution_count": 21,
   "metadata": {},
   "outputs": [],
   "source": [
    "dW2 = np.dot(z1.T, dy)\n",
    "db2 = np.sum(dy, axis=0)"
   ]
  },
  {
   "cell_type": "markdown",
   "metadata": {},
   "source": [
    "sigmoid도 거쳤으므로 활성화 함수(sigmoid)에 대한 gradient도 고려"
   ]
  },
  {
   "cell_type": "code",
   "execution_count": 22,
   "metadata": {},
   "outputs": [],
   "source": [
    "def sigmoid_grad(x):\n",
    "    return (1.0 - sigmoid(x)) * sigmoid(x)"
   ]
  },
  {
   "cell_type": "code",
   "execution_count": 23,
   "metadata": {},
   "outputs": [],
   "source": [
    "dz1 = np.dot(dy, W2.T)\n",
    "da1 = sigmoid_grad(a1) * dz1\n",
    "dW1 = np.dot(X.T, da1)\n",
    "db1 = np.sum(dz1, axis=0)"
   ]
  },
  {
   "cell_type": "markdown",
   "metadata": {},
   "source": [
    "파라미터를 업데이트 하는 함수를 생각. Learning_rate  고려"
   ]
  },
  {
   "cell_type": "code",
   "execution_count": 24,
   "metadata": {},
   "outputs": [],
   "source": [
    "learning_rate = 0.1\n",
    "\n",
    "def update_params(W1, b1, W2, b2, dW1, db1, dW2, db2, learning_rate):\n",
    "    W1 = W1 - learning_rate*dW1\n",
    "    b1 = b1 - learning_rate*db1\n",
    "    W2 = W2 - learning_rate*dW2\n",
    "    b2 = b2 - learning_rate*db2\n",
    "    return W1, b1, W2, b2"
   ]
  },
  {
   "cell_type": "markdown",
   "metadata": {},
   "source": [
    "## 오차역전파법(Backpropagation)"
   ]
  },
  {
   "cell_type": "markdown",
   "metadata": {},
   "source": [
    "* 기울기를 어떻게 입력층에 전달하며 파라미터를 조정하는가?\n",
    "* 이때 쓰이는 개념이 오차역전파법"
   ]
  },
  {
   "cell_type": "code",
   "execution_count": 25,
   "metadata": {},
   "outputs": [],
   "source": [
    "def affine_layer_backward(dy, cache):\n",
    "    X, W, b = cache\n",
    "    dX = np.dot(dy, W.T)\n",
    "    dW = np.dot(X.T, dy)\n",
    "    db = np.sum(dy, axis=0)\n",
    "    return dX, dW, db"
   ]
  },
  {
   "cell_type": "code",
   "execution_count": 26,
   "metadata": {},
   "outputs": [
    {
     "name": "stdout",
     "output_type": "stream",
     "text": [
      "[[0.05471541 0.0579725  0.19240281 0.09444029 0.04205429 0.04941645\n",
      "  0.08617787 0.21311802 0.10649198 0.10321037]\n",
      " [0.05018937 0.06485757 0.17360123 0.08027787 0.04165818 0.04208577\n",
      "  0.08827677 0.21075232 0.12202986 0.12627106]\n",
      " [0.06590962 0.06688893 0.17685224 0.06969695 0.04410376 0.05305867\n",
      "  0.08249129 0.19076478 0.12698108 0.12325268]\n",
      " [0.06709177 0.06602047 0.17239013 0.0727423  0.04259    0.06413672\n",
      "  0.09511647 0.20119092 0.11035435 0.10836687]\n",
      " [0.06233428 0.07561487 0.17269277 0.07445395 0.04740233 0.04320912\n",
      "  0.08634104 0.22021224 0.0969337  0.12080572]]\n",
      "[[0. 0. 0. 0. 0. 1. 0. 0. 0. 0.]\n",
      " [1. 0. 0. 0. 0. 0. 0. 0. 0. 0.]\n",
      " [0. 0. 0. 0. 1. 0. 0. 0. 0. 0.]\n",
      " [0. 1. 0. 0. 0. 0. 0. 0. 0. 0.]\n",
      " [0. 0. 0. 0. 0. 0. 0. 0. 0. 1.]]\n",
      "Loss:  2.7903992436376264\n"
     ]
    }
   ],
   "source": [
    "# 파라미터 초기화\n",
    "W1 = weight_init_std * np.random.randn(input_size, hidden_size)\n",
    "b1 = np.zeros(hidden_size)\n",
    "W2 = weight_init_std * np.random.randn(hidden_size, output_size)\n",
    "b2 = np.zeros(output_size)\n",
    "\n",
    "# Forward Propagation\n",
    "a1, cache1 = affine_layer_forward(X, W1, b1)\n",
    "z1 = sigmoid(a1)\n",
    "a2, cache2 = affine_layer_forward(z1, W2, b2)\n",
    "\n",
    "# 추론과 오차(Loss) 계산\n",
    "y_hat = softmax(a2)\n",
    "t = _change_one_hot_label(Y_digit, 10)   # 정답 One-hot 인코딩\n",
    "Loss = cross_entropy_error(y_hat, t)\n",
    "\n",
    "print(y_hat)\n",
    "print(t)\n",
    "print('Loss: ', Loss)\n",
    "        \n",
    "dy = (y_hat - t) / X.shape[0]\n",
    "dz1, dW2, db2 = affine_layer_backward(dy, cache2)\n",
    "da1 = sigmoid_grad(a1) * dz1\n",
    "dX, dW1, db1 = affine_layer_backward(da1, cache1)\n",
    "\n",
    "# 경사하강법을 통한 파라미터 업데이트    \n",
    "learning_rate = 0.1\n",
    "W1, b1, W2, b2 = update_params(W1, b1, W2, b2, dW1, db1, dW2, db2, learning_rate)"
   ]
  },
  {
   "cell_type": "markdown",
   "metadata": {},
   "source": [
    "## 모델 학습 Step-by-Step"
   ]
  },
  {
   "cell_type": "code",
   "execution_count": 27,
   "metadata": {},
   "outputs": [],
   "source": [
    "W1 = weight_init_std * np.random.randn(input_size, hidden_size)\n",
    "b1 = np.zeros(hidden_size)\n",
    "W2 = weight_init_std * np.random.randn(hidden_size, output_size)\n",
    "b2 = np.zeros(output_size)\n",
    "\n",
    "def train_step(X, Y, W1, b1, W2, b2, learning_rate=0.1, verbose=False):\n",
    "    a1, cache1 = affine_layer_forward(X, W1, b1)\n",
    "    z1 = sigmoid(a1)\n",
    "    a2, cache2 = affine_layer_forward(z1, W2, b2)\n",
    "    y_hat = softmax(a2)\n",
    "    t = _change_one_hot_label(Y, 10)\n",
    "    Loss = cross_entropy_error(y_hat, t)\n",
    "\n",
    "    if verbose:\n",
    "        print('---------')\n",
    "        print(y_hat)\n",
    "        print(t)\n",
    "        print('Loss: ', Loss)\n",
    "        \n",
    "    dy = (y_hat - t) / X.shape[0]\n",
    "    dz1, dW2, db2 = affine_layer_backward(dy, cache2)\n",
    "    da1 = sigmoid_grad(a1) * dz1\n",
    "    dX, dW1, db1 = affine_layer_backward(da1, cache1)\n",
    "    \n",
    "    W1, b1, W2, b2 = update_params(W1, b1, W2, b2, dW1, db1, dW2, db2, learning_rate)\n",
    "    \n",
    "    return W1, b1, W2, b2, Loss"
   ]
  },
  {
   "cell_type": "code",
   "execution_count": 28,
   "metadata": {},
   "outputs": [
    {
     "name": "stdout",
     "output_type": "stream",
     "text": [
      "---------\n",
      "[[0.05004569 0.06889199 0.04958293 0.12104924 0.06008283 0.13598641\n",
      "  0.16508902 0.10268948 0.11928487 0.12729753]\n",
      " [0.04967935 0.07166555 0.04963956 0.13118721 0.04713615 0.11763533\n",
      "  0.14997283 0.11595856 0.13219309 0.13493236]\n",
      " [0.05794215 0.0754981  0.04660032 0.14270869 0.05287214 0.14434541\n",
      "  0.13376951 0.09623167 0.1011476  0.14888441]\n",
      " [0.06204546 0.07909228 0.06315126 0.11834335 0.06095627 0.16295817\n",
      "  0.11681904 0.10472798 0.09723227 0.13467392]\n",
      " [0.05509953 0.07199014 0.05032775 0.14414176 0.0551946  0.13275898\n",
      "  0.11960615 0.09114292 0.10097263 0.17876555]]\n",
      "[[0. 0. 0. 0. 0. 1. 0. 0. 0. 0.]\n",
      " [1. 0. 0. 0. 0. 0. 0. 0. 0. 0.]\n",
      " [0. 0. 0. 0. 1. 0. 0. 0. 0. 0.]\n",
      " [0. 1. 0. 0. 0. 0. 0. 0. 0. 0.]\n",
      " [0. 0. 0. 0. 0. 0. 0. 0. 0. 1.]]\n",
      "Loss:  2.439213000732527\n",
      "---------\n",
      "[[0.06524294 0.0837346  0.04729673 0.10086416 0.0767768  0.15870571\n",
      "  0.13596762 0.08992842 0.10194087 0.13954215]\n",
      " [0.06899909 0.08916187 0.04771328 0.10869797 0.06183248 0.13305657\n",
      "  0.12483344 0.10305648 0.11295711 0.14969171]\n",
      " [0.07418225 0.09092329 0.04413195 0.11708559 0.07143908 0.15849938\n",
      "  0.11027377 0.08444706 0.08595488 0.16306274]\n",
      " [0.07729787 0.09799215 0.05915321 0.09820166 0.07520336 0.17663275\n",
      "  0.0964258  0.09083306 0.08305361 0.14520653]\n",
      " [0.06999615 0.08644151 0.04723281 0.11873165 0.06983535 0.14481996\n",
      "  0.0977835  0.07867485 0.08547328 0.20101093]]\n",
      "[[0. 0. 0. 0. 0. 1. 0. 0. 0. 0.]\n",
      " [1. 0. 0. 0. 0. 0. 0. 0. 0. 0.]\n",
      " [0. 0. 0. 0. 1. 0. 0. 0. 0. 0.]\n",
      " [0. 1. 0. 0. 0. 0. 0. 0. 0. 0.]\n",
      " [0. 0. 0. 0. 0. 0. 0. 0. 0. 1.]]\n",
      "Loss:  2.21610794532654\n",
      "---------\n",
      "[[0.08042099 0.09663389 0.0440139  0.08495112 0.0929331  0.17617393\n",
      "  0.11338304 0.07826592 0.08726703 0.1459571 ]\n",
      " [0.09013643 0.10481198 0.04460893 0.09103576 0.07640929 0.14259226\n",
      "  0.10508016 0.09083344 0.09656494 0.15792681]\n",
      " [0.09010959 0.10417964 0.040908   0.09731285 0.09164691 0.16600442\n",
      "  0.09216009 0.07379709 0.07322341 0.170658  ]\n",
      " [0.09206544 0.11625858 0.05451011 0.08276119 0.08878302 0.18386646\n",
      "  0.08095129 0.0787902  0.07138685 0.15062685]\n",
      " [0.08459232 0.09902092 0.04344617 0.09925108 0.08414105 0.15107068\n",
      "  0.08123936 0.06779114 0.0727247  0.2167226 ]]\n",
      "[[0. 0. 0. 0. 0. 1. 0. 0. 0. 0.]\n",
      " [1. 0. 0. 0. 0. 0. 0. 0. 0. 0.]\n",
      " [0. 0. 0. 0. 1. 0. 0. 0. 0. 0.]\n",
      " [0. 1. 0. 0. 0. 0. 0. 0. 0. 0.]\n",
      " [0. 0. 0. 0. 0. 0. 0. 0. 0. 1.]]\n",
      "Loss:  2.0427203990326555\n",
      "---------\n",
      "[[0.094851   0.10731831 0.04042607 0.07237622 0.10781679 0.18966989\n",
      "  0.09573008 0.06816242 0.07516916 0.14848007]\n",
      " [0.1121436  0.11805391 0.04104936 0.07707463 0.09006341 0.14774172\n",
      "  0.08939874 0.07993366 0.08293456 0.16160639]\n",
      " [0.10490945 0.11494427 0.03748714 0.08189808 0.11275666 0.1688844\n",
      "  0.07800563 0.06458939 0.06275321 0.17377177]\n",
      " [0.10573379 0.13345976 0.04984592 0.07075359 0.10115243 0.18679181\n",
      "  0.0689859  0.06865851 0.06189067 0.15272763]\n",
      " [0.09825096 0.10949383 0.03957011 0.08416404 0.09751843 0.15341721\n",
      "  0.06850528 0.05863054 0.06240635 0.22804325]]\n",
      "[[0. 0. 0. 0. 0. 1. 0. 0. 0. 0.]\n",
      " [1. 0. 0. 0. 0. 0. 0. 0. 0. 0.]\n",
      " [0. 0. 0. 0. 1. 0. 0. 0. 0. 0.]\n",
      " [0. 1. 0. 0. 0. 0. 0. 0. 0. 0.]\n",
      " [0. 0. 0. 0. 0. 0. 0. 0. 0. 1.]]\n",
      "Loss:  1.9050287509943096\n",
      "---------\n",
      "[[0.10795137 0.11582471 0.03691225 0.06237561 0.12089266 0.200621\n",
      "  0.08179992 0.0596134  0.06528088 0.14872819]\n",
      " [0.13411419 0.12875095 0.0374597  0.06595047 0.1021872  0.1500243\n",
      "  0.07683078 0.07048739 0.07170272 0.16249232]\n",
      " [0.11794797 0.12323556 0.03416804 0.06973796 0.13404334 0.16893081\n",
      "  0.06679607 0.05677369 0.05418133 0.17418524]\n",
      " [0.11783106 0.14941916 0.04546701 0.06128066 0.11191394 0.18719\n",
      "  0.05957628 0.06022484 0.05416074 0.1529363 ]\n",
      " [0.11045672 0.11787794 0.03590243 0.07233071 0.10949225 0.15345027\n",
      "  0.05855204 0.05102212 0.05407038 0.23684514]]\n",
      "[[0. 0. 0. 0. 0. 1. 0. 0. 0. 0.]\n",
      " [1. 0. 0. 0. 0. 0. 0. 0. 0. 0.]\n",
      " [0. 0. 0. 0. 1. 0. 0. 0. 0. 0.]\n",
      " [0. 1. 0. 0. 0. 0. 0. 0. 0. 0.]\n",
      " [0. 0. 0. 0. 0. 0. 0. 0. 0. 1.]]\n",
      "Loss:  1.7932684056582004\n"
     ]
    }
   ],
   "source": [
    "X = x_train_reshaped[:5]\n",
    "Y = y_train[:5]\n",
    "\n",
    "# train_step을 다섯 번 반복 돌립니다.\n",
    "for i in range(5):\n",
    "    W1, b1, W2, b2, _ = train_step(X, Y, W1, b1, W2, b2, learning_rate=0.1, verbose=True)"
   ]
  },
  {
   "cell_type": "markdown",
   "metadata": {},
   "source": [
    "## 추론 과정 구현과 정확도(Accuracy) 계산"
   ]
  },
  {
   "cell_type": "code",
   "execution_count": 29,
   "metadata": {},
   "outputs": [],
   "source": [
    "def predict(W1, b1, W2, b2, X):\n",
    "    a1 = np.dot(X, W1) + b1\n",
    "    z1 = sigmoid(a1)\n",
    "    a2 = np.dot(z1, W2) + b2\n",
    "    y = softmax(a2)\n",
    "\n",
    "    return y"
   ]
  },
  {
   "cell_type": "code",
   "execution_count": 30,
   "metadata": {},
   "outputs": [
    {
     "data": {
      "text/plain": [
       "array([0.11935081, 0.12239014, 0.03365675, 0.05435936, 0.13186672,\n",
       "       0.21020403, 0.07070091, 0.05245267, 0.05720586, 0.14781276])"
      ]
     },
     "execution_count": 30,
     "metadata": {},
     "output_type": "execute_result"
    }
   ],
   "source": [
    "# X = x_train[:100] 에 대해 모델 추론을 시도합니다. \n",
    "X = x_train_reshaped[:100]\n",
    "Y = y_test[:100]\n",
    "result = predict(W1, b1, W2, b2, X)\n",
    "result[0]"
   ]
  },
  {
   "cell_type": "code",
   "execution_count": 31,
   "metadata": {},
   "outputs": [],
   "source": [
    "def accuracy(W1, b1, W2, b2, x, y):\n",
    "    y_hat = predict(W1, b1, W2, b2, x)\n",
    "    y_hat = np.argmax(y_hat, axis=1)\n",
    "\n",
    "    accuracy = np.sum(y_hat == y) / float(x.shape[0])\n",
    "    return accuracy"
   ]
  },
  {
   "cell_type": "code",
   "execution_count": 32,
   "metadata": {},
   "outputs": [
    {
     "name": "stdout",
     "output_type": "stream",
     "text": [
      "[0.11935081 0.12239014 0.03365675 0.05435936 0.13186672 0.21020403\n",
      " 0.07070091 0.05245267 0.05720586 0.14781276]\n",
      "[0. 0. 0. 0. 0. 0. 0. 1. 0. 0.]\n",
      "0.08\n"
     ]
    }
   ],
   "source": [
    "acc = accuracy(W1, b1, W2, b2, X, Y)\n",
    "\n",
    "t = _change_one_hot_label(Y, 10)\n",
    "print(result[0])\n",
    "print(t[0])\n",
    "print(acc)"
   ]
  },
  {
   "cell_type": "markdown",
   "metadata": {},
   "source": [
    "## 전체 학습 사이클 수행"
   ]
  },
  {
   "cell_type": "code",
   "execution_count": 33,
   "metadata": {},
   "outputs": [],
   "source": [
    "def init_params(input_size, hidden_size, output_size, weight_init_std=0.01):\n",
    "\n",
    "    W1 = weight_init_std * np.random.randn(input_size, hidden_size)\n",
    "    b1 = np.zeros(hidden_size)\n",
    "    W2 = weight_init_std * np.random.randn(hidden_size, output_size)\n",
    "    b2 = np.zeros(output_size)\n",
    "\n",
    "    print(W1.shape)\n",
    "    print(b1.shape)\n",
    "    print(W2.shape)\n",
    "    print(b2.shape)\n",
    "    \n",
    "    return W1, b1, W2, b2"
   ]
  },
  {
   "cell_type": "code",
   "execution_count": 34,
   "metadata": {},
   "outputs": [
    {
     "name": "stdout",
     "output_type": "stream",
     "text": [
      "(784, 50)\n",
      "(50,)\n",
      "(50, 10)\n",
      "(10,)\n",
      "Loss:  2.3076645145800416\n",
      "train acc, test acc | 0.09776666666666667, 0.1026\n",
      "Loss:  0.8292059617233036\n",
      "train acc, test acc | 0.76865, 0.7729\n",
      "Loss:  0.45631923068183056\n",
      "train acc, test acc | 0.8763833333333333, 0.8794\n",
      "Loss:  0.37517425144141137\n",
      "train acc, test acc | 0.8977166666666667, 0.9012\n",
      "Loss:  0.36772667355003763\n",
      "train acc, test acc | 0.9077166666666666, 0.9103\n",
      "Loss:  0.325830101655626\n",
      "train acc, test acc | 0.9140666666666667, 0.9159\n",
      "Loss:  0.3602059649429695\n",
      "train acc, test acc | 0.9197333333333333, 0.9218\n",
      "Loss:  0.32608923867315015\n",
      "train acc, test acc | 0.92375, 0.9252\n",
      "Loss:  0.3853191112836675\n",
      "train acc, test acc | 0.9285333333333333, 0.9292\n",
      "Loss:  0.11278923365191028\n",
      "train acc, test acc | 0.9313333333333333, 0.9313\n",
      "Loss:  0.24367170709817135\n",
      "train acc, test acc | 0.9348333333333333, 0.9342\n",
      "Loss:  0.21916692178015348\n",
      "train acc, test acc | 0.9368, 0.9374\n",
      "Loss:  0.22697720483650743\n",
      "train acc, test acc | 0.93965, 0.9386\n",
      "Loss:  0.2375081874294322\n",
      "train acc, test acc | 0.9422666666666667, 0.9413\n",
      "Loss:  0.2889269375765784\n",
      "train acc, test acc | 0.9438833333333333, 0.9428\n",
      "Loss:  0.13332651941809487\n",
      "train acc, test acc | 0.9458, 0.944\n",
      "Loss:  0.15341771092996953\n",
      "train acc, test acc | 0.9474333333333333, 0.9462\n",
      "Loss:  0.12533938751539045\n",
      "train acc, test acc | 0.9495166666666667, 0.947\n",
      "Loss:  0.20186659781861377\n",
      "train acc, test acc | 0.9506833333333333, 0.9494\n",
      "Loss:  0.17984189938295286\n",
      "train acc, test acc | 0.9518, 0.9494\n",
      "Loss:  0.19007440361215241\n",
      "train acc, test acc | 0.9531833333333334, 0.9513\n",
      "Loss:  0.10771862862552255\n",
      "train acc, test acc | 0.9541666666666667, 0.952\n",
      "Loss:  0.18908871149933965\n",
      "train acc, test acc | 0.9557, 0.9518\n",
      "Loss:  0.16969279662284378\n",
      "train acc, test acc | 0.9564, 0.9529\n",
      "Loss:  0.12484626579054015\n",
      "train acc, test acc | 0.9578166666666666, 0.9531\n",
      "Loss:  0.1748619093401137\n",
      "train acc, test acc | 0.9585, 0.9548\n",
      "Loss:  0.11770681114282239\n",
      "train acc, test acc | 0.95955, 0.9549\n",
      "Loss:  0.06866068753809387\n",
      "train acc, test acc | 0.96075, 0.9557\n",
      "Loss:  0.07279651261995919\n",
      "train acc, test acc | 0.9612666666666667, 0.9566\n",
      "Loss:  0.13427711587131502\n",
      "train acc, test acc | 0.9617833333333333, 0.9567\n",
      "Loss:  0.14464758718761503\n",
      "train acc, test acc | 0.9628333333333333, 0.958\n",
      "Loss:  0.23348280715754718\n",
      "train acc, test acc | 0.9639666666666666, 0.9587\n",
      "Loss:  0.08002650181586991\n",
      "train acc, test acc | 0.9643166666666667, 0.96\n",
      "Loss:  0.13008102800270646\n",
      "train acc, test acc | 0.9650833333333333, 0.9598\n",
      "Loss:  0.23132360386580653\n",
      "train acc, test acc | 0.9659166666666666, 0.9609\n",
      "Loss:  0.13276854242570216\n",
      "train acc, test acc | 0.9663166666666667, 0.9615\n",
      "Loss:  0.15986262520598113\n",
      "train acc, test acc | 0.9672833333333334, 0.9622\n",
      "Loss:  0.05380048654792283\n",
      "train acc, test acc | 0.9679, 0.9621\n",
      "Loss:  0.08009833918129537\n",
      "train acc, test acc | 0.9684166666666667, 0.9629\n",
      "Loss:  0.0594192437426823\n",
      "train acc, test acc | 0.9691666666666666, 0.9633\n",
      "Loss:  0.04311253852342511\n",
      "train acc, test acc | 0.9696666666666667, 0.9628\n",
      "Loss:  0.16950134622244487\n",
      "train acc, test acc | 0.9700666666666666, 0.9637\n",
      "Loss:  0.05307300475064169\n",
      "train acc, test acc | 0.9706666666666667, 0.9643\n",
      "Loss:  0.11192848365573427\n",
      "train acc, test acc | 0.9713, 0.9639\n",
      "Loss:  0.05654511094264333\n",
      "train acc, test acc | 0.97135, 0.963\n",
      "Loss:  0.06628993243870888\n",
      "train acc, test acc | 0.9720833333333333, 0.9643\n",
      "Loss:  0.1208849484593601\n",
      "train acc, test acc | 0.97285, 0.9649\n",
      "Loss:  0.09248760058085191\n",
      "train acc, test acc | 0.9734333333333334, 0.9657\n",
      "Loss:  0.11928899327573157\n",
      "train acc, test acc | 0.9737333333333333, 0.9649\n",
      "Loss:  0.1274420855503938\n",
      "train acc, test acc | 0.9738333333333333, 0.965\n",
      "Loss:  0.06169646263099079\n",
      "train acc, test acc | 0.9745166666666667, 0.9648\n",
      "Loss:  0.05698326672478884\n",
      "train acc, test acc | 0.97515, 0.9651\n",
      "Loss:  0.16456781839876483\n",
      "train acc, test acc | 0.9751, 0.9658\n",
      "Loss:  0.15316325537792572\n",
      "train acc, test acc | 0.9758, 0.9658\n",
      "Loss:  0.030949261126538598\n",
      "train acc, test acc | 0.97565, 0.9662\n",
      "Loss:  0.08378762180276621\n",
      "train acc, test acc | 0.9765333333333334, 0.9658\n",
      "Loss:  0.08671388576557108\n",
      "train acc, test acc | 0.97645, 0.9653\n",
      "Loss:  0.12906149345479623\n",
      "train acc, test acc | 0.9771, 0.9656\n",
      "Loss:  0.11912223023856078\n",
      "train acc, test acc | 0.9773166666666666, 0.9665\n",
      "Loss:  0.08816703155638905\n",
      "train acc, test acc | 0.9774, 0.9662\n",
      "Loss:  0.07911065850824783\n",
      "train acc, test acc | 0.9777166666666667, 0.9671\n",
      "Loss:  0.052280402783469765\n",
      "train acc, test acc | 0.9777, 0.9663\n",
      "Loss:  0.07746615993399744\n",
      "train acc, test acc | 0.9780333333333333, 0.9672\n",
      "Loss:  0.02942124317538365\n",
      "train acc, test acc | 0.9784833333333334, 0.9677\n",
      "Loss:  0.09810726730260257\n",
      "train acc, test acc | 0.9789166666666667, 0.9676\n",
      "Loss:  0.06164837139194829\n",
      "train acc, test acc | 0.9789666666666667, 0.9677\n",
      "Loss:  0.06289851538467173\n",
      "train acc, test acc | 0.9791333333333333, 0.967\n",
      "Loss:  0.1468108392141039\n",
      "train acc, test acc | 0.97945, 0.9681\n",
      "Loss:  0.224694023209409\n",
      "train acc, test acc | 0.9797666666666667, 0.9679\n",
      "Loss:  0.06784961204259206\n",
      "train acc, test acc | 0.9801, 0.9689\n",
      "Loss:  0.1298248942859724\n",
      "train acc, test acc | 0.9804166666666667, 0.9687\n",
      "Loss:  0.058856889958088014\n",
      "train acc, test acc | 0.9805333333333334, 0.9686\n",
      "Loss:  0.03859519999880314\n",
      "train acc, test acc | 0.9806666666666667, 0.9683\n",
      "Loss:  0.046443788709374184\n",
      "train acc, test acc | 0.9811, 0.969\n",
      "Loss:  0.045244144492073986\n",
      "train acc, test acc | 0.9814833333333334, 0.9689\n",
      "Loss:  0.05281309161984386\n",
      "train acc, test acc | 0.9821, 0.9691\n",
      "Loss:  0.024661379398429627\n",
      "train acc, test acc | 0.9817, 0.9677\n",
      "Loss:  0.042927340000890116\n",
      "train acc, test acc | 0.9820666666666666, 0.9696\n",
      "Loss:  0.031225938746386298\n",
      "train acc, test acc | 0.9819166666666667, 0.97\n",
      "Loss:  0.01678893113641565\n",
      "train acc, test acc | 0.9825833333333334, 0.9692\n",
      "Loss:  0.03193981282890211\n",
      "train acc, test acc | 0.9823666666666667, 0.9703\n",
      "Loss:  0.029088391906792816\n",
      "train acc, test acc | 0.9828333333333333, 0.9701\n",
      "Loss:  0.06037344150145694\n",
      "train acc, test acc | 0.9829333333333333, 0.9702\n",
      "Loss:  0.03967931942472784\n",
      "train acc, test acc | 0.9831833333333333, 0.9702\n"
     ]
    }
   ],
   "source": [
    "# 하이퍼파라미터\n",
    "iters_num = 50000  # 반복 횟수를 적절히 설정한다.\n",
    "train_size = x_train.shape[0]\n",
    "batch_size = 100   # 미니배치 크기\n",
    "learning_rate = 0.1\n",
    "\n",
    "train_loss_list = []\n",
    "train_acc_list = []\n",
    "test_acc_list = []\n",
    "\n",
    "# 1에폭당 반복 수\n",
    "iter_per_epoch = max(train_size / batch_size, 1)\n",
    "\n",
    "W1, b1, W2, b2 = init_params(784, 50, 10)\n",
    "\n",
    "for i in range(iters_num):\n",
    "    # 미니배치 획득\n",
    "    batch_mask = np.random.choice(train_size, batch_size)\n",
    "    x_batch = x_train_reshaped[batch_mask]\n",
    "    y_batch = y_train[batch_mask]\n",
    "    \n",
    "    W1, b1, W2, b2, Loss = train_step(x_batch, y_batch, W1, b1, W2, b2, learning_rate=0.1, verbose=False)\n",
    "\n",
    "    # 학습 경과 기록\n",
    "    train_loss_list.append(Loss)\n",
    "    \n",
    "    # 1에폭당 정확도 계산\n",
    "    if i % iter_per_epoch == 0:\n",
    "        print('Loss: ', Loss)\n",
    "        train_acc = accuracy(W1, b1, W2, b2, x_train_reshaped, y_train)\n",
    "        test_acc = accuracy(W1, b1, W2, b2, x_test_reshaped, y_test)\n",
    "        train_acc_list.append(train_acc)\n",
    "        test_acc_list.append(test_acc)\n",
    "        print(\"train acc, test acc | \" + str(train_acc) + \", \" + str(test_acc))"
   ]
  },
  {
   "cell_type": "code",
   "execution_count": 35,
   "metadata": {},
   "outputs": [
    {
     "data": {
      "image/png": "[encoded data removed]",
      "text/plain": [
       "<Figure size 864x432 with 1 Axes>"
      ]
     },
     "metadata": {
      "needs_background": "light"
     },
     "output_type": "display_data"
    }
   ],
   "source": [
    "from matplotlib.pylab import rcParams\n",
    "rcParams['figure.figsize'] = 12, 6 \n",
    "\n",
    "# Accuracy 그래프 그리기\n",
    "markers = {'train': 'o', 'test': 's'}\n",
    "x = np.arange(len(train_acc_list))\n",
    "plt.plot(x, train_acc_list, label='train acc')\n",
    "plt.plot(x, test_acc_list, label='test acc', linestyle='--')\n",
    "plt.xlabel(\"epochs\")\n",
    "plt.ylabel(\"accuracy\")\n",
    "plt.ylim(0, 1.0)\n",
    "plt.legend(loc='lower right')\n",
    "plt.show()"
   ]
  },
  {
   "cell_type": "code",
   "execution_count": 36,
   "metadata": {},
   "outputs": [
    {
     "data": {
      "image/png": "[encoded data removed]",
      "text/plain": [
       "<Figure size 864x432 with 1 Axes>"
      ]
     },
     "metadata": {
      "needs_background": "light"
     },
     "output_type": "display_data"
    }
   ],
   "source": [
    "# Loss 그래프 그리기\n",
    "x = np.arange(len(train_loss_list))\n",
    "plt.plot(x, train_loss_list, label='train acc')\n",
    "plt.xlabel(\"epochs\")\n",
    "plt.ylabel(\"Loss\")\n",
    "plt.ylim(0, 3.0)\n",
    "plt.legend(loc='best')\n",
    "plt.show()"
   ]
  }
 ],
 "metadata": {
  "kernelspec": {
   "display_name": "Python 3.10.4 64-bit",
   "language": "python",
   "name": "python3"
  },
  "language_info": {
   "codemirror_mode": {
    "name": "ipython",
    "version": 3
   },
   "file_extension": ".py",
   "mimetype": "text/x-python",
   "name": "python",
   "nbconvert_exporter": "python",
   "pygments_lexer": "ipython3",
   "version": "3.10.4"
  },
  "orig_nbformat": 4,
  "vscode": {
   "interpreter": {
    "hash": "916dbcbb3f70747c44a77c7bcd40155683ae19c65e1c03b4aa3499c5328201f1"
   }
  }
 },
 "nbformat": 4,
 "nbformat_minor": 2
}
