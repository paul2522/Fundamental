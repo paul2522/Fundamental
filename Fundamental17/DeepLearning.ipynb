{
 "cells": [
  {
   "cell_type": "markdown",
   "metadata": {},
   "source": [
    "# 17. 딥러닝과 신경망의 본질"
   ]
  },
  {
   "cell_type": "markdown",
   "metadata": {},
   "source": [
    "## 학습 목표"
   ]
  },
  {
   "cell_type": "markdown",
   "metadata": {},
   "source": [
    "* 딥러닝과 머신러닝의 차이를 설명할 수 있다.\n",
    "* 딥러닝은 특히 데이터를 '표현'하는 것을 목표로 하며, '표현 학습'이라고 이야기할 수 있는 본질을 이해한다.\n",
    "* 연결주의를 계승하여 채택한 신경망 모델의 본질을 함수 차원에서 이해한다.\n",
    "* 선형성이 무엇인지 설명할 수 있다."
   ]
  },
  {
   "cell_type": "markdown",
   "metadata": {},
   "source": [
    "## 학습 내용\n"
   ]
  },
  {
   "cell_type": "markdown",
   "metadata": {},
   "source": [
    "* Deep Learning == Representation Learning ?\n",
    "* 조금 더 파고들어보자, 딥러닝을 관통하는 철학 속으로\n",
    "* 이번에는 '신경망', 그 본질에 대하여\n",
    "* 현시대 AI: 어디까지 왔나, 그리고 어디를 향해 가는가"
   ]
  },
  {
   "cell_type": "markdown",
   "metadata": {},
   "source": [
    "## 1. Deep Learning == Representation Learning ?"
   ]
  },
  {
   "cell_type": "markdown",
   "metadata": {},
   "source": [
    "### (1) Deep Learning"
   ]
  },
  {
   "cell_type": "markdown",
   "metadata": {},
   "source": [
    "* 딥러닝과 머신러닝은 무엇이고 차이는 뭘까?  \n",
    "[NVIDIA 링크](https://blogs.nvidia.co.kr/2016/08/03/difference_ai_learning_machinelearning/)"
   ]
  },
  {
   "cell_type": "markdown",
   "metadata": {},
   "source": [
    "* 딥러닝의 목표  \n",
    "뇌의 신경 구조로부터 영감을 받아 신경망 형태로 설계된 딥러닝의 목표는, \"합성된 함수를 학습시켜서 풍부하면서도 유용한 '내재적 표현'을 찾아내는 machine을 구축하는 것\"이다.  \n",
    "여기서 internal representation, 즉 '내재적 표현'이라는 단어를 사용합니다. 표현(Representation) 은 딥러닝에서 굉장히 중요하게 여겨지는 개념입니다. 벤지오가 언급했듯 데이터의 '좋은 표현'을 찾아낼 수 있는 machine을 만드는 것이 딥러닝의 궁극적인 목표이기도 하죠."
   ]
  },
  {
   "cell_type": "markdown",
   "metadata": {},
   "source": [
    "### (2) Representation Learning"
   ]
  },
  {
   "cell_type": "markdown",
   "metadata": {},
   "source": [
    "* 내재적 표현 또는 표현(Representation)은 무엇일까?  \n",
    "하나의 데이터를 나타내는 여러가지 방법\n",
    "1. 분자 형태 : 실제 물체 그 자체\n",
    "2. 이미지 : 시각적 표현, 특정 사이즈 W,H와 RGB, W x H x 3 또는 흑백이면 W x H\n",
    "3. 표 : 데이터가 가지는 특징(feature)를 각 열에 두고 열마다 어떤 값을 넣음. 즉 사람의 개입해야함.\n",
    "4. 카테고리 : 예측하고자 하는 값으로 사용됨. 카테고리 공간 ['무궁화', '수국', '진달래', '카네이션'] 그 중 무궁화란 카테고리, 역시 사람이 강하게 개입\n",
    "  \n",
    "1에서 4로 갈수록 사람의 개입이 강하게 들어감. = 아주 강력한 계층적인 관계  \n",
    "분자, 이미지 : Raw, Sensory = 날 것, 감각기관으로 받아들일 수 있음  \n",
    "표, 카테고리 : Abstract, Internal = 추상적이고, 함축적 = 사람의 개입이 강하게 들어갔기 때문"
   ]
  },
  {
   "cell_type": "markdown",
   "metadata": {},
   "source": [
    "* 딥러닝의 목표 : 학습된 함수를 사용하여 유용한 internal representations(내재적 표현)을 뽑아내는 것\n",
    "* 내재된 표현 : 데이터가 담고 있는 정보의 총체 또는 함의\n",
    "* 표현을 추출 : 추상적인 표현을 추출하는 것\n",
    "* 딥러닝의 본질 : 데이터로부터 내재된 표현을 추출하는 것"
   ]
  },
  {
   "cell_type": "markdown",
   "metadata": {},
   "source": [
    "## 2. 딥러닝을 관통하는 철학"
   ]
  },
  {
   "cell_type": "markdown",
   "metadata": {},
   "source": [
    "### (1) 행동주의"
   ]
  },
  {
   "cell_type": "markdown",
   "metadata": {},
   "source": [
    "* 자극 -> 행동 (후천적인 교육과 학습)\n",
    "* 조작적 조건화 : 생명체가 외부의 자극으로 인해 학습되는 과정\n",
    "* 스키너의 상자 : 빈 상자에 빈상자에 먹이통과 연결된 지렛대만 있는 상태에서 굶주린 쥐를 넣어서 쥐가 지렛대를 건들여서  \n",
    "  먹이를 먹을 수 있다는 것을 학습하게 하는 실험 \n",
    "* 스키너의 상자에서 먹이를 주는 것은 강화가 된다.\n",
    "* 자신에게 유리한 결과를 가져다주는 행동을 알게 되면  그 행동의 빈도를 높인다는 '강화이론'은 머신러닝의 방법론 중 '강화학습'의 근간이 됨"
   ]
  },
  {
   "cell_type": "markdown",
   "metadata": {},
   "source": [
    "### (2) 인지주의"
   ]
  },
  {
   "cell_type": "markdown",
   "metadata": {},
   "source": [
    "* 행동주의에 반에 나옴\n",
    "* 자극 -> 정보처리 -> 행동\n",
    "* 뇌에서 여러가지 생각을 통해 행동한다."
   ]
  },
  {
   "cell_type": "markdown",
   "metadata": {},
   "source": [
    "### (3) 연결주의"
   ]
  },
  {
   "cell_type": "markdown",
   "metadata": {},
   "source": [
    "* 몇 백억 개의 뉴런이 연결되어 있는 뇌의 형태처럼, 수많은 신호들이 연결된 일련의 과정에 따라 정보가 처리됨\n",
    "* 경험을 통해 백지의 지능체가 천천히 학습\n",
    "* 학습된 내용은 연결된 뉴런 자체에 저장되어 있으며, 외부의 자극에 따라 그 연결 형태가 바뀌면서 학습된 내용이 바뀌어간다.\n",
    "* 딥러닝이 연결주의를 따라가서 뉴런과 같은 형태인 인공신경망을 사용한다."
   ]
  },
  {
   "cell_type": "markdown",
   "metadata": {},
   "source": [
    "## 3. 신경망의 본질"
   ]
  },
  {
   "cell_type": "markdown",
   "metadata": {},
   "source": [
    "### (1) 개요"
   ]
  },
  {
   "cell_type": "markdown",
   "metadata": {},
   "source": [
    "<img src='/home/aiffel/Code/AiffelPractice/Fundamental17/NN1.jpg'  width=50% height=50%/>\n",
    "\n",
    "블랙박스를 뇌와 닮은 신경망으로 넣겠다.  \n",
    "<img src='/home/aiffel/Code/AiffelPractice/Fundamental17/NN2.jpg'  width=50% height=50%/>\n",
    "\n",
    "입력을 받아 출력을 한다는 것?  \n",
    "<img src='/home/aiffel/Code/AiffelPractice/Fundamental17/NN3.jpg'  width=50% height=50%/>\n",
    "\n",
    "함수와 유사하다."
   ]
  },
  {
   "cell_type": "markdown",
   "metadata": {},
   "source": [
    "### (2) 수학과 프로그래밍의 \"함수\""
   ]
  },
  {
   "cell_type": "code",
   "execution_count": 1,
   "metadata": {},
   "outputs": [],
   "source": [
    "def f(x):\n",
    "    y = 3 * x + 2\n",
    "    return y"
   ]
  },
  {
   "cell_type": "code",
   "execution_count": 2,
   "metadata": {},
   "outputs": [
    {
     "data": {
      "text/plain": [
       "17"
      ]
     },
     "execution_count": 2,
     "metadata": {},
     "output_type": "execute_result"
    }
   ],
   "source": [
    "x = 5\n",
    "\n",
    "y = f(x)   # 3 * 5 + 2 = 17\n",
    "y"
   ]
  },
  {
   "cell_type": "code",
   "execution_count": 6,
   "metadata": {},
   "outputs": [
    {
     "data": {
      "text/plain": [
       "428.4287934927351"
      ]
     },
     "execution_count": 6,
     "metadata": {},
     "output_type": "execute_result"
    }
   ],
   "source": [
    "import math\n",
    "\n",
    "from numpy import square\n",
    "\n",
    "def f(x):\n",
    "    y = math.pow(x,2) + math.exp(x+1)\n",
    "    return y\n",
    "f(5)"
   ]
  },
  {
   "cell_type": "markdown",
   "metadata": {},
   "source": [
    "수학에서의 함수와 프로그래밍에서의 함수는 크게 다르지않다."
   ]
  },
  {
   "cell_type": "markdown",
   "metadata": {},
   "source": [
    "### (3), (4) 함수의 역할"
   ]
  },
  {
   "cell_type": "markdown",
   "metadata": {},
   "source": [
    "#### 1. Relation: x와 y의 관계를 나타낼 수 있는 도구"
   ]
  },
  {
   "cell_type": "markdown",
   "metadata": {},
   "source": [
    "* 함수는 x와 y의 관계를 나타낸다.\n",
    "* y는 x의 변화에 종속적이다. = x가 변하면 y도 x가 변한 정도에 따라 변한다.\n",
    "* x가 변하는 정도에 따라 y가 변하는 정도는 x와 y 간 함수의 형태로 결정된다.(다항식, 삼각함수, 신경망)"
   ]
  },
  {
   "cell_type": "markdown",
   "metadata": {},
   "source": [
    "#### 2. Transformation: x를 변환해 주는 도구"
   ]
  },
  {
   "cell_type": "markdown",
   "metadata": {},
   "source": [
    "선형 변환 : 변환 후에도 직선, 원점은 변환 후에도 원점"
   ]
  },
  {
   "cell_type": "code",
   "execution_count": 7,
   "metadata": {},
   "outputs": [],
   "source": [
    "import numpy as np\n",
    "\n",
    "def linear_transformation(X, A):\n",
    "    transformed_vector = np.matmul(X, A)\n",
    "    return transformed_vector"
   ]
  },
  {
   "cell_type": "code",
   "execution_count": 9,
   "metadata": {},
   "outputs": [
    {
     "data": {
      "text/plain": [
       "array([5, 2])"
      ]
     },
     "execution_count": 9,
     "metadata": {},
     "output_type": "execute_result"
    }
   ],
   "source": [
    "X = np.array([-1, 2])\n",
    "A = np.array([[1,-2],\n",
    "              [3,0]])\n",
    "\n",
    "linear_transformation(X, A)"
   ]
  },
  {
   "cell_type": "markdown",
   "metadata": {},
   "source": [
    "#### 3. Mapping: x의 공간에서 y의 공간으로 매핑해주는 도구"
   ]
  },
  {
   "cell_type": "markdown",
   "metadata": {},
   "source": [
    "* 스칼라 : 방향이 없는 크기만 가짐\n",
    "* 벡터 : 방향과 크기를 가짐"
   ]
  },
  {
   "cell_type": "markdown",
   "metadata": {},
   "source": [
    "##### One to one"
   ]
  },
  {
   "cell_type": "markdown",
   "metadata": {},
   "source": [
    "<img src='/home/aiffel/Code/AiffelPractice/Fundamental17/OnetoOne.jpg'  width=50% height=50%/>\n",
    "\n",
    "* 입력값 x와 출력값 y 둘 다 스칼라\n",
    "* 하나의 값만 입력했을 때, 하나의 값만 나옴\n",
    "* f(x) = ax + b 로 쓸 수 있음"
   ]
  },
  {
   "cell_type": "markdown",
   "metadata": {},
   "source": [
    "##### Many to one"
   ]
  },
  {
   "cell_type": "markdown",
   "metadata": {},
   "source": [
    "<img src='/home/aiffel/Code/AiffelPractice/Fundamental17/ManytoOne.jpg'  width=50% height=50%/>\n",
    "\n",
    "* 벡터 x를 입력받아 스칼라 y를 출력, 이때 **x**는 볼드체를 사용\n",
    "* 벡터를 입력받아 단 하나의 스칼라를 출력\n",
    "* 머신러닝/딥러닝에서는 이를 회귀문제라고 합니다.(OnetoOne도 회귀문제지만 하나이므로 단변량 회귀, ManytoOne은 다변량 회귀)"
   ]
  },
  {
   "cell_type": "markdown",
   "metadata": {},
   "source": [
    "##### Many to Many"
   ]
  },
  {
   "cell_type": "markdown",
   "metadata": {},
   "source": [
    "<img src='/home/aiffel/Code/AiffelPractice/Fundamental17/ManytoMany.jpg'  width=50% height=50%/>\n",
    "\n",
    "* 벡터 x를 입력받아 벡터 y를 출력\n",
    "* 분류 문제는 보통 출력 벡터의 전체 합을 1이 되도록 하는 정규화를 거침"
   ]
  },
  {
   "cell_type": "markdown",
   "metadata": {},
   "source": [
    "### (5) 함수와 모델"
   ]
  },
  {
   "cell_type": "markdown",
   "metadata": {},
   "source": [
    "#### 함수와 모델(신경망 또는 머신러닝 모델)의 차이점\n",
    "* 함수 : 그 형태가 고정되어 있는게 대부분\n",
    "* 모델 : 단 하나로 정해져있지도 않고 주어진 건 오직 데이터뿐  \n",
    "* 즉 머신러닝과 딥러닝은 완벽한 함수를 찾기보다는 그나마 잘 근사 할 수 있는 함수에 가까워지도록 시도하는 것"
   ]
  },
  {
   "cell_type": "markdown",
   "metadata": {},
   "source": [
    "#### 그나마 나은 함수를 찾기 위한 법"
   ]
  },
  {
   "cell_type": "markdown",
   "metadata": {},
   "source": [
    "##### 1. 먼저 모델을 어떤 함수로 나타낼지 정해야함.\n",
    "  * OnetoOne, ManytoOne, 신경망 등에서 선택\n",
    "* 데이터에 대한 문제를 풀기 위해 이러한 형태의 함수가 유리할 것이라고 판단하고 함수 공간을 정하는 것을 Inductive Bias 또는 Prior를 가정한다고 함.\n",
    "* Inductive Bias : 데이터를 설명할 수 있는 최적의 함수가 특정한 함수 공간에 존재할 것이라는 가설"
   ]
  },
  {
   "cell_type": "markdown",
   "metadata": {},
   "source": [
    "##### 2. 모델의 함수 형태를 정했다면, 해당 함수 공간 안에서 최적의 함수를 찾아나가기"
   ]
  },
  {
   "cell_type": "markdown",
   "metadata": {},
   "source": [
    "* 함수 형태를 정했다면 그 안에서 최적의 함수로 학습\n",
    "* 이를 보통 모델 학습\n",
    "* 머신러닝 모델 학습 : 엉뚱한 값을 내뱉던 모델을 점점 정답에 해당하는 값을 출력하게 보정하는 것\n",
    "* 딥러닝은 Gradient Descent 방법을 사용"
   ]
  },
  {
   "cell_type": "markdown",
   "metadata": {},
   "source": [
    "## 4. AI의 현재와 미래"
   ]
  },
  {
   "cell_type": "markdown",
   "metadata": {},
   "source": [
    "### (1) 머신러닝과 딥러닝"
   ]
  },
  {
   "cell_type": "markdown",
   "metadata": {},
   "source": [
    "* 머신러닝 : 주어진 데이터로부터 패턴을 학습해서 원하는 값을 예측\n",
    "* 딥러닝 : 입력된 데이터에 내재된 표현을 나타내도록 학습"
   ]
  },
  {
   "cell_type": "markdown",
   "metadata": {},
   "source": [
    "* [머신러닝이란 무엇인가?](https://www.stechstar.com/user/zbxe/index.php?mid=study_SQL&page=14&document_srl=63467)  \n",
    "* [딥러닝이란 무엇인가?1](https://www.stechstar.com/user/zbxe/index.php?mid=study_SQL&page=13&document_srl=63482)  \n",
    "* [딥러닝이란 무엇인가?2](https://www.stechstar.com/user/zbxe/index.php?mid=study_SQL&page=13&document_srl=63499)\n"
   ]
  },
  {
   "cell_type": "markdown",
   "metadata": {},
   "source": [
    "### (2) 딥러닝은 블랙박스인가 아닌가, 끝나지 않는 논쟁"
   ]
  },
  {
   "cell_type": "markdown",
   "metadata": {},
   "source": [
    "블랙박스 : 기능은 알지만 작동 원리를 이해할 수 없는 복잡한 기계 장치나 시스템"
   ]
  }
 ],
 "metadata": {
  "kernelspec": {
   "display_name": "Python 3.10.4 64-bit",
   "language": "python",
   "name": "python3"
  },
  "language_info": {
   "codemirror_mode": {
    "name": "ipython",
    "version": 3
   },
   "file_extension": ".py",
   "mimetype": "text/x-python",
   "name": "python",
   "nbconvert_exporter": "python",
   "pygments_lexer": "ipython3",
   "version": "3.10.4"
  },
  "orig_nbformat": 4,
  "vscode": {
   "interpreter": {
    "hash": "916dbcbb3f70747c44a77c7bcd40155683ae19c65e1c03b4aa3499c5328201f1"
   }
  }
 },
 "nbformat": 4,
 "nbformat_minor": 2
}
