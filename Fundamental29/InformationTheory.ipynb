{
 "cells": [
  {
   "cell_type": "markdown",
   "metadata": {},
   "source": [
    "# 정보 이론(Information Theory)"
   ]
  },
  {
   "cell_type": "markdown",
   "metadata": {},
   "source": [
    "## 학습 내용"
   ]
  },
  {
   "cell_type": "markdown",
   "metadata": {},
   "source": [
    "* Information Content\n",
    "* Entropy\n",
    "* Kullback Leibler Divergence\n",
    "* Cross Entropy Loss\n",
    "* Decision Tree, Entropy"
   ]
  },
  {
   "cell_type": "markdown",
   "metadata": {},
   "source": [
    "## Information Content"
   ]
  },
  {
   "cell_type": "markdown",
   "metadata": {},
   "source": [
    "* 정보 이론(information theory) : 추상적인 '정보' 개념을 정량화하고 정보의 저장과 통신을 연구하는 분야"
   ]
  },
  {
   "cell_type": "markdown",
   "metadata": {},
   "source": [
    "* 정보를 정량적으로 표현하기 위한 세가지 조건\n",
    "1. 일어날 가능성이 높은 사건은 정보량이 낮고, 반드시 일어나는 사건에는 정보가 없는 것이나 마찬가지입니다.\n",
    "2. 일어날 가능성이 낮은 사건은 정보량이 높습니다.\n",
    "3. 두 개의 독립적인 사건이 있을 때, 전체 정보량은 각각의 정보량을 더한 것과 같습니다."
   ]
  },
  {
   "cell_type": "markdown",
   "metadata": {},
   "source": [
    "* 사건 x가 일어날 확률은 P(X = x)라고 할 때, 사건의 정보량(information content) I(x)는"
   ]
  },
  {
   "cell_type": "markdown",
   "metadata": {},
   "source": [
    "$$I(x) = -log_{b}P(x)$$"
   ]
  },
  {
   "cell_type": "code",
   "execution_count": 1,
   "metadata": {},
   "outputs": [
    {
     "name": "stdout",
     "output_type": "stream",
     "text": [
      "number of blue samples: 2416\n",
      "information content: 7.790282380703483\n"
     ]
    }
   ],
   "source": [
    "import numpy as np\n",
    "import math\n",
    "import random\n",
    "\n",
    "# 주머니 속에 들어있는 공의 개수입니다. 숫자를 바꾸면서 실험해보세요!\n",
    "total = 1000\n",
    "# 실험이 끝날 때까지 꺼낸 공의 개수\n",
    "count = 1\n",
    "\n",
    "# 1부터 total까지의 정수 중에서 하나를 뽑고 total과 같으면 실험 종료\n",
    "# total=1000인 경우 1~999: blue / 1000: red\n",
    "while True:\n",
    "    sample = random.randrange(1,total+1)\n",
    "    if sample == total:\n",
    "        break\n",
    "    count += 1\n",
    "\n",
    "print('number of blue samples: '+str(count-1))\n",
    "print('information content: '+str(-math.log(1/count)))"
   ]
  },
  {
   "cell_type": "markdown",
   "metadata": {},
   "source": [
    "## Entropy"
   ]
  },
  {
   "cell_type": "markdown",
   "metadata": {},
   "source": [
    "* 엔트로피(entropy) : 특정 확률분포를 따르는 사건들의 정보량 기댓값\n",
    "* = 직관적인 개념 : 무질서, 불확실성"
   ]
  },
  {
   "cell_type": "markdown",
   "metadata": {},
   "source": [
    "### 이산적인 무작위 값들"
   ]
  },
  {
   "cell_type": "markdown",
   "metadata": {},
   "source": [
    "* 이산확률변수 X : x_{1}, x_{2},...,x_{n} 중 하나의 값을 가짐\n",
    "* 각각의 정보량에 확률을 곱한 후, 그 값을 모두 더한 값입니다."
   ]
  },
  {
   "cell_type": "markdown",
   "metadata": {},
   "source": [
    "$$H(X) = E_{X \\sim P}[I(x)] = -\\sum_{i=1}^{n}p_{i}logp_{i} (p_{i} := P(X = x_{i}))$$"
   ]
  },
  {
   "cell_type": "markdown",
   "metadata": {},
   "source": [
    "### 연속적인 무작위 값들"
   ]
  },
  {
   "cell_type": "markdown",
   "metadata": {},
   "source": [
    "* 유한합 대신 적분의 형태"
   ]
  },
  {
   "cell_type": "markdown",
   "metadata": {},
   "source": [
    "$$h(X) = -\\int p(x)logp(x)dx$$"
   ]
  },
  {
   "cell_type": "markdown",
   "metadata": {},
   "source": [
    "* 연속 확률 변수의 엔트로피를 이산 확률 변수와 구분하여 미분 엔트로피(differential entropy)"
   ]
  },
  {
   "cell_type": "markdown",
   "metadata": {},
   "source": [
    "## Kullback Leibler Divergence"
   ]
  },
  {
   "cell_type": "markdown",
   "metadata": {},
   "source": [
    "* 두 확률 분포의 차이를 나타내는 지표\n",
    "* P(x) : 실제 확률 분포\n",
    "* Q(x) : 모델이 나타내는 확률 분포\n",
    "* P(x)를 기준으로 계산된 Q(x)의 평균 정보량, P(x)를 기준으로 계산된 P(x)의 평균 정보량의 차이로 정의할 수 있습니다.\n",
    "* = P(x) 대신 Q(x)를 사용했을 때 발생하는 엔트로피의 변화량을 나타내는 값입니다."
   ]
  },
  {
   "cell_type": "markdown",
   "metadata": {},
   "source": [
    "$$D_{KL}(P||Q) = E_{X \\sim P}[-logQ(x)] - E_{X \\sim P}[-log P(x)] = \\sum P(x)log(\\frac{P(x)}{Q(x)})$$"
   ]
  },
  {
   "cell_type": "markdown",
   "metadata": {},
   "source": [
    "* 연속 확률 변수"
   ]
  },
  {
   "cell_type": "markdown",
   "metadata": {},
   "source": [
    "$$D_{KL}(P||Q) =  \\int P(x)log(\\frac{P(x)}{Q(x)})dx$$"
   ]
  }
 ],
 "metadata": {
  "kernelspec": {
   "display_name": "Python 3.10.4 64-bit",
   "language": "python",
   "name": "python3"
  },
  "language_info": {
   "codemirror_mode": {
    "name": "ipython",
    "version": 3
   },
   "file_extension": ".py",
   "mimetype": "text/x-python",
   "name": "python",
   "nbconvert_exporter": "python",
   "pygments_lexer": "ipython3",
   "version": "3.10.6"
  },
  "orig_nbformat": 4,
  "vscode": {
   "interpreter": {
    "hash": "916dbcbb3f70747c44a77c7bcd40155683ae19c65e1c03b4aa3499c5328201f1"
   }
  }
 },
 "nbformat": 4,
 "nbformat_minor": 2
}
