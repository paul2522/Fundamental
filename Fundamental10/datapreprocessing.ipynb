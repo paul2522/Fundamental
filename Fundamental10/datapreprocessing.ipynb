{
 "cells": [
  {
   "cell_type": "code",
   "execution_count": 1,
   "metadata": {},
   "outputs": [
    {
     "name": "stdout",
     "output_type": "stream",
     "text": [
      "          기간 국가명      수출건수        수출금액      수입건수       수입금액       무역수지  기타사항\n",
      "0  2015년 01월  중국  116932.0  12083947.0  334522.0  8143271.0  3940676.0   NaN\n",
      "1  2015년 01월  미국   65888.0   5561545.0  509564.0  3625062.0  1936484.0   NaN\n",
      "2  2015년 01월  일본   54017.0   2251307.0   82480.0  3827247.0 -1575940.0   NaN\n",
      "3  2015년 02월  중국   86228.0   9927642.0  209100.0  6980874.0  2946768.0   NaN\n",
      "4  2015년 02월  미국   60225.0   5021264.0  428678.0  2998216.0  2023048.0   NaN\n",
      "전체 데이터 건수: 199\n",
      "컬럼별 결측치 개수 전체 길이 - count()\n",
      "기간        0\n",
      "국가명       0\n",
      "수출건수      3\n",
      "수출금액      4\n",
      "수입건수      3\n",
      "수입금액      3\n",
      "무역수지      4\n",
      "기타사항    199\n",
      "dtype: int64\n"
     ]
    }
   ],
   "source": [
    "import os\n",
    "import numpy as np\n",
    "import pandas as pd\n",
    "\n",
    "csv_file_path = '/home/aiffel/Code/Practice3/trade.csv'\n",
    "trade = pd.read_csv(csv_file_path) \n",
    "print(trade.head())\n",
    "print('전체 데이터 건수:', len(trade))\n",
    "print('컬럼별 결측치 개수','전체 길이 - count()')\n",
    "print(len(trade) - trade.count())"
   ]
  },
  {
   "cell_type": "code",
   "execution_count": 2,
   "metadata": {},
   "outputs": [
    {
     "name": "stdout",
     "output_type": "stream",
     "text": [
      "기타사항은 전부 결측치 : 아무 내용이 없는 열이기 때문 고로 삭제\n",
      "          기간 국가명      수출건수        수출금액      수입건수       수입금액       무역수지\n",
      "0  2015년 01월  중국  116932.0  12083947.0  334522.0  8143271.0  3940676.0\n",
      "1  2015년 01월  미국   65888.0   5561545.0  509564.0  3625062.0  1936484.0\n",
      "2  2015년 01월  일본   54017.0   2251307.0   82480.0  3827247.0 -1575940.0\n",
      "3  2015년 02월  중국   86228.0   9927642.0  209100.0  6980874.0  2946768.0\n",
      "4  2015년 02월  미국   60225.0   5021264.0  428678.0  2998216.0  2023048.0\n",
      "        기간    국가명   수출건수   수출금액   수입건수   수입금액   무역수지\n",
      "0    False  False  False  False  False  False  False\n",
      "1    False  False  False  False  False  False  False\n",
      "2    False  False  False  False  False  False  False\n",
      "3    False  False  False  False  False  False  False\n",
      "4    False  False  False  False  False  False  False\n",
      "..     ...    ...    ...    ...    ...    ...    ...\n",
      "194  False  False  False  False  False  False  False\n",
      "195  False  False  False  False  False  False  False\n",
      "196  False  False   True   True   True   True   True\n",
      "197  False  False   True   True   True   True   True\n",
      "198  False  False   True   True   True   True   True\n",
      "\n",
      "[199 rows x 7 columns]\n",
      "            기간 국가명      수출건수  수출금액       수입건수       수입금액  무역수지\n",
      "191  2020년 04월  미국  105360.0   NaN  1141118.0  5038739.0   NaN\n",
      "196  2020년 06월  중국       NaN   NaN        NaN        NaN   NaN\n",
      "197  2020년 06월  미국       NaN   NaN        NaN        NaN   NaN\n",
      "198  2020년 06월  일본       NaN   NaN        NaN        NaN   NaN\n"
     ]
    }
   ],
   "source": [
    "print('기타사항은 전부 결측치 : 아무 내용이 없는 열이기 때문 고로 삭제')\n",
    "trade = trade.drop('기타사항', axis=1)\n",
    "print(trade.head())\n",
    "print(trade.isnull()) # null만 보여줌\n",
    "print(trade[trade.isnull().any(axis=1)]) #null만 들어있는 Dataframe으로 보여줌"
   ]
  },
  {
   "cell_type": "code",
   "execution_count": 3,
   "metadata": {},
   "outputs": [
    {
     "name": "stdout",
     "output_type": "stream",
     "text": [
      "            기간 국가명      수출건수  수출금액       수입건수       수입금액  무역수지\n",
      "191  2020년 04월  미국  105360.0   NaN  1141118.0  5038739.0   NaN\n"
     ]
    }
   ],
   "source": [
    "# trade에서 subset 열의 값이 모두 결측치일 때 행을 삭제 inplace 옵션으로 바로 적용\n",
    "trade.dropna(how='all', subset=['수출건수', '수출금액', '수입건수', '수입금액', '무역수지'], inplace=True)\n",
    "print(trade[trade.isnull().any(axis=1)]) #null만 들어있는 Dataframe으로 보여줌"
   ]
  },
  {
   "cell_type": "code",
   "execution_count": 4,
   "metadata": {},
   "outputs": [
    {
     "name": "stdout",
     "output_type": "stream",
     "text": [
      "            기간 국가명      수출건수       수출금액       수입건수       수입금액       무역수지\n",
      "188  2020년 03월  미국   97117.0  7292838.0  1368345.0  5388338.0  1904500.0\n",
      "191  2020년 04월  미국  105360.0        NaN  1141118.0  5038739.0        NaN\n",
      "194  2020년 05월  미국  126598.0  4600726.0  1157163.0  4286873.0   313853.0\n",
      "기간      2020년 04월\n",
      "국가명            미국\n",
      "수출건수     105360.0\n",
      "수출금액    5946782.0\n",
      "수입건수    1141118.0\n",
      "수입금액    5038739.0\n",
      "무역수지     908043.0\n",
      "Name: 191, dtype: object\n",
      "기간      2020년 04월\n",
      "국가명            미국\n",
      "수출건수     105360.0\n",
      "수출금액    5946782.0\n",
      "수입건수    1141118.0\n",
      "수입금액          0.0\n",
      "무역수지     908043.0\n",
      "Name: 191, dtype: object\n"
     ]
    }
   ],
   "source": [
    "# loc[row, col] 로 해당 위치 값 가져옴\n",
    "trade.loc[[188, 191, 194]] # 188, 191, 194 행 들을 가져온다.\n",
    "print(trade.loc[[188, 191, 194]])\n",
    "# 191행의 비어있는 수출금액을 전/후달의 평균 금액으로 무역수지를 수출-수입으로 구해서 넣는다.\n",
    "trade.loc[191,'수출금액'] = (trade.loc[188,'수출금액'] + trade.loc[194, '수출금액']) / 2\n",
    "oldData = trade.loc[191,'수출금액']\n",
    "trade.loc[191,'무역수지'] = (trade.loc[191,'수출금액'] - trade.loc[191, '수입금액'])\n",
    "print(trade.loc[191])\n",
    "#change value by index\n",
    "trade.iloc[191, 5] = 0\n",
    "print(trade.iloc[191])"
   ]
  },
  {
   "cell_type": "code",
   "execution_count": 5,
   "metadata": {},
   "outputs": [
    {
     "name": "stdout",
     "output_type": "stream",
     "text": [
      "            기간 국가명      수출건수        수출금액      수입건수       수입금액       무역수지\n",
      "187  2020년 03월  중국  248059.0  10658599.0  358234.0  8948918.0  1709682.0\n",
      "            기간 국가명      수출건수        수출금액      수입건수       수입금액       무역수지\n",
      "186  2020년 03월  중국  248059.0  10658599.0  358234.0  8948918.0  1709682.0\n",
      "187  2020년 03월  중국  248059.0  10658599.0  358234.0  8948918.0  1709682.0\n",
      "            기간 국가명      수출건수        수출금액      수입건수       수입금액       무역수지\n",
      "186  2020년 03월  중국  248059.0  10658599.0  358234.0  8948918.0  1709682.0\n"
     ]
    }
   ],
   "source": [
    "# Dulplicated data preprocessing\n",
    "print(trade[trade.duplicated()]) #only show one row(same)\n",
    "# to show all rows that same values\n",
    "print(trade[(trade['기간']=='2020년 03월')&(trade['국가명']=='중국')])\n",
    "trade.drop_duplicates(inplace=True) # erase duplicated data and change\n",
    "print(trade[(trade['기간']=='2020년 03월')&(trade['국가명']=='중국')])\n",
    "#print(trade.loc[187]) - index 187이 없어서 error\n",
    "# 행 자체가 삭제된다 186, 188... 당겨주는 함수도 있음 "
   ]
  }
 ],
 "metadata": {
  "kernelspec": {
   "display_name": "Python 3 (ipykernel)",
   "language": "python",
   "name": "python3"
  },
  "language_info": {
   "codemirror_mode": {
    "name": "ipython",
    "version": 3
   },
   "file_extension": ".py",
   "mimetype": "text/x-python",
   "name": "python",
   "nbconvert_exporter": "python",
   "pygments_lexer": "ipython3",
   "version": "3.10.4"
  },
  "vscode": {
   "interpreter": {
    "hash": "916dbcbb3f70747c44a77c7bcd40155683ae19c65e1c03b4aa3499c5328201f1"
   }
  }
 },
 "nbformat": 4,
 "nbformat_minor": 2
}
